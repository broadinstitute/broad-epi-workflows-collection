{
 "cells": [
  {
   "cell_type": "markdown",
   "metadata": {},
   "source": [
    "# Snapatac2 tutorial\n",
    "This notebook shows how to perform quality control on single-cell ATAC data using snapatac2"
   ]
  },
  {
   "cell_type": "code",
   "execution_count": null,
   "metadata": {},
   "outputs": [
    {
     "name": "stdout",
     "output_type": "stream",
     "text": [
      "snapatac2==2.8.0\n",
      "matplotlib==3.9.4\n",
      "Collecting umap-learn\n",
      "  Using cached umap_learn-0.5.7-py3-none-any.whl.metadata (21 kB)\n",
      "Requirement already satisfied: numpy>=1.17 in /Users/emattei/GitHub/broad-epi-workflows-collection/.venv/lib/python3.9/site-packages (from umap-learn) (1.26.4)\n",
      "Requirement already satisfied: scipy>=1.3.1 in /Users/emattei/GitHub/broad-epi-workflows-collection/.venv/lib/python3.9/site-packages (from umap-learn) (1.13.1)\n",
      "Requirement already satisfied: scikit-learn>=0.22 in /Users/emattei/GitHub/broad-epi-workflows-collection/.venv/lib/python3.9/site-packages (from umap-learn) (1.6.1)\n",
      "Collecting numba>=0.51.2 (from umap-learn)\n",
      "  Downloading numba-0.60.0-cp39-cp39-macosx_10_9_x86_64.whl.metadata (2.7 kB)\n",
      "Collecting pynndescent>=0.5 (from umap-learn)\n",
      "  Using cached pynndescent-0.5.13-py3-none-any.whl.metadata (6.8 kB)\n",
      "Requirement already satisfied: tqdm in /Users/emattei/GitHub/broad-epi-workflows-collection/.venv/lib/python3.9/site-packages (from umap-learn) (4.67.1)\n",
      "Collecting llvmlite<0.44,>=0.43.0dev0 (from numba>=0.51.2->umap-learn)\n",
      "  Downloading llvmlite-0.43.0-cp39-cp39-macosx_10_9_x86_64.whl.metadata (4.8 kB)\n",
      "Requirement already satisfied: joblib>=0.11 in /Users/emattei/GitHub/broad-epi-workflows-collection/.venv/lib/python3.9/site-packages (from pynndescent>=0.5->umap-learn) (1.4.2)\n",
      "Requirement already satisfied: threadpoolctl>=3.1.0 in /Users/emattei/GitHub/broad-epi-workflows-collection/.venv/lib/python3.9/site-packages (from scikit-learn>=0.22->umap-learn) (3.5.0)\n",
      "Using cached umap_learn-0.5.7-py3-none-any.whl (88 kB)\n",
      "Downloading numba-0.60.0-cp39-cp39-macosx_10_9_x86_64.whl (2.6 MB)\n",
      "\u001b[2K   \u001b[90m━━━━━━━━━━━━━━━━━━━━━━━━━━━━━━━━━━━━━━━━\u001b[0m \u001b[32m2.6/2.6 MB\u001b[0m \u001b[31m11.0 MB/s\u001b[0m eta \u001b[36m0:00:00\u001b[0m00:01\u001b[0m00:01\u001b[0m\n",
      "\u001b[?25hUsing cached pynndescent-0.5.13-py3-none-any.whl (56 kB)\n",
      "Downloading llvmlite-0.43.0-cp39-cp39-macosx_10_9_x86_64.whl (31.1 MB)\n",
      "\u001b[2K   \u001b[90m━━━━━━━━━━━━━━━━━━━━━━━━━━━━━━━━━━━━━━━━\u001b[0m \u001b[32m31.1/31.1 MB\u001b[0m \u001b[31m10.4 MB/s\u001b[0m eta \u001b[36m0:00:00\u001b[0m00:01\u001b[0m00:01\u001b[0m\n",
      "\u001b[?25hInstalling collected packages: llvmlite, numba, pynndescent, umap-learn\n",
      "Successfully installed llvmlite-0.43.0 numba-0.60.0 pynndescent-0.5.13 umap-learn-0.5.7\n",
      "\n",
      "\u001b[1m[\u001b[0m\u001b[34;49mnotice\u001b[0m\u001b[1;39;49m]\u001b[0m\u001b[39;49m A new release of pip is available: \u001b[0m\u001b[31;49m24.0\u001b[0m\u001b[39;49m -> \u001b[0m\u001b[32;49m25.0.1\u001b[0m\n",
      "\u001b[1m[\u001b[0m\u001b[34;49mnotice\u001b[0m\u001b[1;39;49m]\u001b[0m\u001b[39;49m To update, run: \u001b[0m\u001b[32;49mpip install --upgrade pip\u001b[0m\n"
     ]
    }
   ],
   "source": [
    "# Check is snapatac2 is installed and if not install it\n",
    "!pip freeze | grep snapatac2 || pip install snapatac2[recommend]\n",
    "!pip freeze | grep \"matplotlib==\" || pip install matplotlib"
   ]
  },
  {
   "cell_type": "code",
   "execution_count": 3,
   "metadata": {},
   "outputs": [
    {
     "data": {
      "text/plain": [
       "PosixPath('/Users/emattei/Library/Caches/snapatac2/atac_pbmc_5k.tsv.gz')"
      ]
     },
     "execution_count": 3,
     "metadata": {},
     "output_type": "execute_result"
    }
   ],
   "source": [
    "# Load snapatac2\n",
    "import snapatac2 as snap\n",
    "# Use the example data PMBC from snapatac2\n",
    "fragment_file = snap.datasets.pbmc5k() # You can change this to the path to your own fragment file\n",
    "# fragment_file = \"/path/to/your/fragments.tsv.gz\"\n",
    "fragment_file"
   ]
  },
  {
   "cell_type": "code",
   "execution_count": 4,
   "metadata": {},
   "outputs": [
    {
     "data": {
      "text/plain": [
       "AnnData object with n_obs x n_vars = 6603 x 0 backed at './pbmc_snapatac2_example.h5ad'\n",
       "    obs: 'n_fragment', 'frac_dup', 'frac_mito'\n",
       "    uns: 'reference_sequences'\n",
       "    obsm: 'fragment_paired'"
      ]
     },
     "execution_count": 4,
     "metadata": {},
     "output_type": "execute_result"
    }
   ],
   "source": [
    "# This function reads the fragment file and loads them into snapatac2.\n",
    "# You can use it with any genome you like. In the example below I am using the hg38 annotations \n",
    "# from snapatac2. \n",
    "\n",
    "# This is the path to the output h5ad file that will be created. This is optional but it is useful\n",
    "# to have a file that you can load later on.\n",
    "#\n",
    "# output_name = \"/path/to/your/output.h5ad\"\n",
    "\n",
    "# For now I am saving it to the same folder as the notebook.\n",
    "output_name = \"./pbmc_snapatac2_example.h5ad\"\n",
    "\n",
    "data = snap.pp.import_fragments(\n",
    "    fragment_file=fragment_file,\n",
    "    file=output_name,\n",
    "    chrom_sizes=snap.genome.hg38, # Here I am using the hg38 annotations from snapatac2 but look at the next cell for more options.\n",
    "    sorted_by_barcode=False, # If the fragment file is sorted by barcode you can set to True\n",
    "    min_num_fragments=500, # This is the minimum number of fragments per cell\n",
    "    shift_left=4, # By default snapatac2 does not shift the fragments.\n",
    "    shift_right=-4 # For these two parameters you need to check what is the file format output from the tool you are using.\n",
    ")\n",
    "data"
   ]
  },
  {
   "cell_type": "markdown",
   "metadata": {},
   "source": [
    "### Understandting the AnnData object\n",
    "\n",
    "```sh\n",
    "AnnData object with n_obs x n_vars = 6603 x 0 backed at './pbmc_snapatac2_example.h5ad'\n",
    "    obs: 'n_fragment', 'frac_dup', 'frac_mito'\n",
    "    uns: 'reference_sequences'\n",
    "    obsm: 'fragment_paired'\n",
    "```\n",
    "\n",
    "`n_obs x n_vars = 6603 x 0` Means that there are **6603** barcodes with more than **500** fragments(because we set that threshold in the import). When doing atac analyses you look at bins or peaks across the genome. Since we have not defined them yet, you see **0**.\n",
    "\n",
    "`obs:` Contains metrics at the **barcode**. Right now we have:\n",
    "- `n_fragments`: number of fragments\n",
    "- `frac_dup`: fraction of ducplicates per barcode\n",
    "- `frac_mito`: fraction of mitochondrial reads\n",
    "\n",
    "`uns` holds the metrics or metadata at the **library** level. For now it contains the `chrom.sizes`\n",
    "\n",
    "`obsm` contains all the fragments stored in a `snapatac2` specific format."
   ]
  },
  {
   "cell_type": "code",
   "execution_count": 5,
   "metadata": {},
   "outputs": [
    {
     "name": "stderr",
     "output_type": "stream",
     "text": [
      "/var/folders/cj/swr0k_3s7rzflnp6gw1h9l140000gq/T/ipykernel_71313/1761164236.py:2: DeprecationWarning: `Series._import_from_c` is deprecated. use _import_arrow_from_c; if you are using an extension, please compile it with latest 'pyo3-polars'\n",
      "  data.uns['reference_sequences']\n"
     ]
    },
    {
     "data": {
      "text/html": [
       "<div><style>\n",
       ".dataframe > thead > tr,\n",
       ".dataframe > tbody > tr {\n",
       "  text-align: right;\n",
       "  white-space: pre-wrap;\n",
       "}\n",
       "</style>\n",
       "<small>shape: (25, 2)</small><table border=\"1\" class=\"dataframe\"><thead><tr><th>reference_seq_name</th><th>reference_seq_length</th></tr><tr><td>str</td><td>u64</td></tr></thead><tbody><tr><td>&quot;chr1&quot;</td><td>248956422</td></tr><tr><td>&quot;chr10&quot;</td><td>133797422</td></tr><tr><td>&quot;chr11&quot;</td><td>135086622</td></tr><tr><td>&quot;chr12&quot;</td><td>133275309</td></tr><tr><td>&quot;chr13&quot;</td><td>114364328</td></tr><tr><td>&hellip;</td><td>&hellip;</td></tr><tr><td>&quot;chr8&quot;</td><td>145138636</td></tr><tr><td>&quot;chr9&quot;</td><td>138394717</td></tr><tr><td>&quot;chrM&quot;</td><td>16569</td></tr><tr><td>&quot;chrX&quot;</td><td>156040895</td></tr><tr><td>&quot;chrY&quot;</td><td>57227415</td></tr></tbody></table></div>"
      ],
      "text/plain": [
       "shape: (25, 2)\n",
       "┌────────────────────┬──────────────────────┐\n",
       "│ reference_seq_name ┆ reference_seq_length │\n",
       "│ ---                ┆ ---                  │\n",
       "│ str                ┆ u64                  │\n",
       "╞════════════════════╪══════════════════════╡\n",
       "│ chr1               ┆ 248956422            │\n",
       "│ chr10              ┆ 133797422            │\n",
       "│ chr11              ┆ 135086622            │\n",
       "│ chr12              ┆ 133275309            │\n",
       "│ chr13              ┆ 114364328            │\n",
       "│ …                  ┆ …                    │\n",
       "│ chr8               ┆ 145138636            │\n",
       "│ chr9               ┆ 138394717            │\n",
       "│ chrM               ┆ 16569                │\n",
       "│ chrX               ┆ 156040895            │\n",
       "│ chrY               ┆ 57227415             │\n",
       "└────────────────────┴──────────────────────┘"
      ]
     },
     "execution_count": 5,
     "metadata": {},
     "output_type": "execute_result"
    }
   ],
   "source": [
    "# Accessing the reference genome\n",
    "data.uns['reference_sequences']"
   ]
  },
  {
   "cell_type": "code",
   "execution_count": 8,
   "metadata": {},
   "outputs": [
    {
     "name": "stderr",
     "output_type": "stream",
     "text": [
      "/var/folders/cj/swr0k_3s7rzflnp6gw1h9l140000gq/T/ipykernel_54996/3172209750.py:2: DeprecationWarning: `Series._import_from_c` is deprecated. use _import_arrow_from_c; if you are using an extension, please compile it with latest 'pyo3-polars'\n",
      "  data.obs['n_fragment'].head(3) # I am showing the first 3 cells, remove '.head(3)' to see all cells.\n"
     ]
    },
    {
     "data": {
      "text/html": [
       "<div><style>\n",
       ".dataframe > thead > tr,\n",
       ".dataframe > tbody > tr {\n",
       "  text-align: right;\n",
       "  white-space: pre-wrap;\n",
       "}\n",
       "</style>\n",
       "<small>shape: (3,)</small><table border=\"1\" class=\"dataframe\"><thead><tr><th>n_fragment</th></tr><tr><td>u64</td></tr></thead><tbody><tr><td>22067</td></tr><tr><td>10498</td></tr><tr><td>19191</td></tr></tbody></table></div>"
      ],
      "text/plain": [
       "shape: (3,)\n",
       "Series: 'n_fragment' [u64]\n",
       "[\n",
       "\t22067\n",
       "\t10498\n",
       "\t19191\n",
       "]"
      ]
     },
     "execution_count": 8,
     "metadata": {},
     "output_type": "execute_result"
    }
   ],
   "source": [
    "# Check number of fragments.\n",
    "data.obs['n_fragment'].head(3) # I am showing the first 3 cells, remove '.head(3)' to see all cells."
   ]
  },
  {
   "cell_type": "code",
   "execution_count": 9,
   "metadata": {},
   "outputs": [
    {
     "name": "stderr",
     "output_type": "stream",
     "text": [
      "/var/folders/cj/swr0k_3s7rzflnp6gw1h9l140000gq/T/ipykernel_54996/2122630286.py:2: DeprecationWarning: `Series._import_from_c` is deprecated. use _import_arrow_from_c; if you are using an extension, please compile it with latest 'pyo3-polars'\n",
      "  data.obs['frac_dup'].head(3) # I am showing the first 3 cells, remove '.head(3)' to see all cells.\n"
     ]
    },
    {
     "data": {
      "text/html": [
       "<div><style>\n",
       ".dataframe > thead > tr,\n",
       ".dataframe > tbody > tr {\n",
       "  text-align: right;\n",
       "  white-space: pre-wrap;\n",
       "}\n",
       "</style>\n",
       "<small>shape: (3,)</small><table border=\"1\" class=\"dataframe\"><thead><tr><th>frac_dup</th></tr><tr><td>f64</td></tr></thead><tbody><tr><td>0.521914</td></tr><tr><td>0.534519</td></tr><tr><td>0.510196</td></tr></tbody></table></div>"
      ],
      "text/plain": [
       "shape: (3,)\n",
       "Series: 'frac_dup' [f64]\n",
       "[\n",
       "\t0.521914\n",
       "\t0.534519\n",
       "\t0.510196\n",
       "]"
      ]
     },
     "execution_count": 9,
     "metadata": {},
     "output_type": "execute_result"
    }
   ],
   "source": [
    "# Check fraction of duplicate fragments.\n",
    "data.obs['frac_dup'].head(3) # I am showing the first 3 cells, remove '.head(3)' to see all cells."
   ]
  },
  {
   "cell_type": "code",
   "execution_count": 10,
   "metadata": {},
   "outputs": [
    {
     "name": "stderr",
     "output_type": "stream",
     "text": [
      "/var/folders/cj/swr0k_3s7rzflnp6gw1h9l140000gq/T/ipykernel_54996/4090377493.py:2: DeprecationWarning: `Series._import_from_c` is deprecated. use _import_arrow_from_c; if you are using an extension, please compile it with latest 'pyo3-polars'\n",
      "  data.obs['frac_mito'].head(3) # I am showing the first 3 cells, remove '.head(3)' to see all cells.\n"
     ]
    },
    {
     "data": {
      "text/html": [
       "<div><style>\n",
       ".dataframe > thead > tr,\n",
       ".dataframe > tbody > tr {\n",
       "  text-align: right;\n",
       "  white-space: pre-wrap;\n",
       "}\n",
       "</style>\n",
       "<small>shape: (3,)</small><table border=\"1\" class=\"dataframe\"><thead><tr><th>frac_mito</th></tr><tr><td>f64</td></tr></thead><tbody><tr><td>0.0</td></tr><tr><td>0.0</td></tr><tr><td>0.0</td></tr></tbody></table></div>"
      ],
      "text/plain": [
       "shape: (3,)\n",
       "Series: 'frac_mito' [f64]\n",
       "[\n",
       "\t0.0\n",
       "\t0.0\n",
       "\t0.0\n",
       "]"
      ]
     },
     "execution_count": 10,
     "metadata": {},
     "output_type": "execute_result"
    }
   ],
   "source": [
    "# Check fraction of mitochondrial fragments\n",
    "data.obs['frac_mito'].head(3) # I am showing the first 3 cells, remove '.head(3)' to see all cells."
   ]
  },
  {
   "cell_type": "markdown",
   "metadata": {},
   "source": [
    "## Using your genome of interest\n",
    "`snapatac2` is completely genome agnostic. That means that you can use your organism of choice by simply passing the `chrom.sizes` file for that organism.\n",
    "In the block below I am showing how to load the chromosome file and then pass it to the import function.\n",
    "\n",
    "The `chrom.sizes` file is a `two-column` `tab-separated` text file containing assembly sequence names and sizes:\n",
    "```sh\n",
    "chr1    248956422\n",
    "chr2    242193529\n",
    "chr3    198295559\n",
    "chr4    190214555\n",
    "```"
   ]
  },
  {
   "cell_type": "code",
   "execution_count": null,
   "metadata": {},
   "outputs": [],
   "source": [
    "# DO NOT RUN THIS CELL IF YOU ARE USING THE EXAMPLE DATA\n",
    "from collections import defaultdict\n",
    "chrom_sizes_dict = defaultdict(int)\n",
    "\n",
    "chrom_sizes_file = \"/path/to/your/chrom.sizes\" # <--- Change this to the path to your chrom.sizes file\n",
    "\n",
    "# This reads the file and keeps primary assembly only. No chrUn or random chromosomes.\n",
    "with open(chrom_sizes_file, \"r\") as fh:\n",
    "    for line in fh:\n",
    "        if not (\"random\" in line.strip().split(\"\\t\")[0] or \"Un\" in line.strip().split(\"\\t\")[0]):\n",
    "            chrom_sizes_dict[line.strip().split(\"\\t\")[0]] = int(line.strip().split(\"\\t\")[1])\n",
    "\n",
    "chrom_sizes_dict.keys()"
   ]
  },
  {
   "cell_type": "markdown",
   "metadata": {},
   "source": [
    "When you use your own `chrom.sizes` file you need to change the import like in the esample below.\n",
    "```sh\n",
    "data = snap.pp.import_data(\n",
    "    fragment_file=fragment_file,\n",
    "    file=output_name, \n",
    "    chrom_sizes=chrom_sizes_dict, # <----- Here I am using the chrom_sizes_dict\n",
    "    sorted_by_barcode=False,\n",
    "    min_num_fragments=500, \n",
    "    shift_left=4, \n",
    "    shift_right=-4\n",
    ")\n",
    "```"
   ]
  },
  {
   "cell_type": "markdown",
   "metadata": {},
   "source": [
    "## Quality Control\n",
    "Collection of basic quality controls and how to perform them."
   ]
  },
  {
   "cell_type": "markdown",
   "metadata": {},
   "source": [
    "### Fragment size distribution\n",
    "\n",
    "This is a **library** level metric so the result will be stored in `uns` like we have seen before with the key `frag_size_distr`.\n",
    "\n",
    "`uns: 'frag_size_distr', 'reference_sequences'`"
   ]
  },
  {
   "cell_type": "code",
   "execution_count": 6,
   "metadata": {},
   "outputs": [
    {
     "data": {
      "text/plain": [
       "AnnData object with n_obs x n_vars = 6603 x 0 backed at './pbmc_snapatac2_example.h5ad'\n",
       "    obs: 'n_fragment', 'frac_dup', 'frac_mito'\n",
       "    uns: 'reference_sequences', 'frag_size_distr'\n",
       "    obsm: 'fragment_paired'"
      ]
     },
     "execution_count": 6,
     "metadata": {},
     "output_type": "execute_result"
    }
   ],
   "source": [
    "# To compute the fragment size distribution you can use the following function.\n",
    "snap.metrics.frag_size_distr(data)\n",
    "\n",
    "data"
   ]
  },
  {
   "cell_type": "code",
   "execution_count": 7,
   "metadata": {},
   "outputs": [
    {
     "data": {
      "image/png": "[encoded data removed]",
      "text/plain": [
       "<IPython.core.display.Image object>"
      ]
     },
     "execution_count": 7,
     "metadata": {},
     "output_type": "execute_result"
    }
   ],
   "source": [
    "# To plot the fragment size distribution you can use the following function.\n",
    "out_file = None # <--- Change this to the path where you want to save the plot. Ex. out_file=\"/path/to/your/output.png\"\n",
    "snap.pl.frag_size_distr(data, interactive=False, out_file=out_file) # Set interactive to True if you want to use the interactive plot."
   ]
  },
  {
   "cell_type": "markdown",
   "metadata": {},
   "source": [
    "### TSSenrichment\n",
    "`snapatac2` uses a `gtf` file to define the TSS and compute the enrichment. For the example we are using the gtf stored in `snapatac2` but you can pass your own `gtf`. This is a **barcode** level metric so it will be stored in `obs` with the name `tsse`.\n",
    "\n",
    "```sh\n",
    "obs: 'n_fragment', 'frac_dup', 'frac_mito', 'tsse'\n",
    "```\n",
    "\n",
    "Along with the TSSe at the barcode level, this function also computes library-level statistics:\n",
    "- `TSS_profile`: Raw counts around TSS used to compute the enrichment profile.\n",
    "- `frac_overlap_TSS`: Percentage of fragments overlapping TSS.\n",
    "- `library_tsse`: Just one number representing the library TSSe."
   ]
  },
  {
   "cell_type": "code",
   "execution_count": 8,
   "metadata": {},
   "outputs": [
    {
     "data": {
      "text/plain": [
       "AnnData object with n_obs x n_vars = 6603 x 0 backed at './pbmc_snapatac2_example.h5ad'\n",
       "    obs: 'n_fragment', 'frac_dup', 'frac_mito', 'tsse'\n",
       "    uns: 'frag_size_distr', 'frac_overlap_TSS', 'reference_sequences', 'TSS_profile', 'library_tsse'\n",
       "    obsm: 'fragment_paired'"
      ]
     },
     "execution_count": 8,
     "metadata": {},
     "output_type": "execute_result"
    }
   ],
   "source": [
    "gtf_file = snap.genome.hg38 # <--- Change this to the path to your gtf file\n",
    "snap.metrics.tsse(data, gtf_file)\n",
    "data"
   ]
  },
  {
   "cell_type": "code",
   "execution_count": 9,
   "metadata": {},
   "outputs": [
    {
     "data": {
      "image/png": "[encoded data removed]",
      "text/plain": [
       "<IPython.core.display.Image object>"
      ]
     },
     "execution_count": 9,
     "metadata": {},
     "output_type": "execute_result"
    }
   ],
   "source": [
    "# To plot use the following function.\n",
    "out_file = None # <--- Change this to the path where you want to save the plot. Ex. out_file=\"/path/to/your/output.png\"\n",
    "snap.pl.tsse(data, interactive=False, out_file=out_file) # Set interactive to True if you want to use the interactive plot.\n"
   ]
  },
  {
   "cell_type": "code",
   "execution_count": 16,
   "metadata": {},
   "outputs": [
    {
     "data": {
      "image/png": "[encoded data removed]",
      "text/plain": [
       "<Figure size 1000x600 with 1 Axes>"
      ]
     },
     "metadata": {},
     "output_type": "display_data"
    }
   ],
   "source": [
    "import matplotlib.pyplot as plt\n",
    "\n",
    "# Extract the TSS profile data\n",
    "tss_profile = data.uns['TSS_profile']\n",
    "\n",
    "# Plot the TSS profile\n",
    "plt.figure(figsize=(10, 6))\n",
    "positions = range(-2000, 2001)\n",
    "plt.plot(positions, tss_profile, label='TSS Profile')\n",
    "plt.xlabel('Position relative to TSS')\n",
    "plt.ylabel('Enrichment')\n",
    "plt.title('TSS Enrichment Profile')\n",
    "plt.legend()\n",
    "plt.show()"
   ]
  },
  {
   "cell_type": "code",
   "execution_count": 17,
   "metadata": {},
   "outputs": [
    {
     "data": {
      "text/plain": [
       "25.884573806275945"
      ]
     },
     "execution_count": 17,
     "metadata": {},
     "output_type": "execute_result"
    }
   ],
   "source": [
    "# library TSSe is \n",
    "data.uns['library_tsse']"
   ]
  },
  {
   "cell_type": "markdown",
   "metadata": {},
   "source": [
    "### Fraction of fragments in region of interest\n",
    "\n",
    "`snapatac2` offers the ability to compute the \"`fraction of reads in peaks`\". The name of the function is misleading because you can pass the regions you want and it will compute the fraction. This is a **barcode** metric so it will appear in `obs`. The name will change because it is define by the user. For the example below it will create `peaks_frac`.\n",
    "```sh\n",
    "obs: 'n_fragment', 'frac_dup', 'frac_mito', 'tsse', 'peaks_frac'\n",
    "```"
   ]
  },
  {
   "cell_type": "code",
   "execution_count": 10,
   "metadata": {},
   "outputs": [
    {
     "name": "stderr",
     "output_type": "stream",
     "text": [
      "/var/folders/cj/swr0k_3s7rzflnp6gw1h9l140000gq/T/ipykernel_71313/139490718.py:4: DeprecationWarning:\n",
      "\n",
      "`Series._import_from_c` is deprecated. use _import_arrow_from_c; if you are using an extension, please compile it with latest 'pyo3-polars'\n",
      "\n"
     ]
    },
    {
     "data": {
      "text/plain": [
       "AnnData object with n_obs x n_vars = 6603 x 0 backed at './pbmc_snapatac2_example.h5ad'\n",
       "    obs: 'n_fragment', 'frac_dup', 'frac_mito', 'tsse', 'peaks_frac'\n",
       "    uns: 'frag_size_distr', 'frac_overlap_TSS', 'reference_sequences', 'TSS_profile', 'library_tsse'\n",
       "    obsm: 'fragment_paired'"
      ]
     },
     "execution_count": 10,
     "metadata": {},
     "output_type": "execute_result"
    }
   ],
   "source": [
    "regions_file = snap.datasets.cre_HEA() # <--- Change this to the path to your regions file\n",
    "# For this example I am downloading the cCRE for human.\n",
    "snap.metrics.frip(data, {\"peaks_frac\": regions_file})\n",
    "data.obs['peaks_frac'].head()\n",
    "data"
   ]
  },
  {
   "cell_type": "markdown",
   "metadata": {},
   "source": [
    "To generalize\n",
    "```sh\n",
    "regions_file = \"/path/to/your/regions.bed\" # <--- Change this to the path to your regions file\n",
    "snap.metrics.frip(data, {\"name_you_choose\": regions_file})\n",
    "data.obs['name_you_choose'].head()\n",
    "data\n",
    "```\n",
    "You can also add more regions at the same time.\n",
    "```sh\n",
    "snap.metrics.frip(data,{\"promoter_frac\": \"promoter.bed\", \"enhancer_frac\": \"enhancer.bed\"}])\n",
    "```"
   ]
  },
  {
   "cell_type": "markdown",
   "metadata": {},
   "source": [
    "## Filtering and downstream analyses"
   ]
  },
  {
   "cell_type": "code",
   "execution_count": 11,
   "metadata": {},
   "outputs": [
    {
     "data": {
      "text/plain": [
       "AnnData object with n_obs x n_vars = 4563 x 0 backed at './pbmc_snapatac2_example.h5ad'\n",
       "    obs: 'n_fragment', 'frac_dup', 'frac_mito', 'tsse', 'peaks_frac'\n",
       "    uns: 'frag_size_distr', 'frac_overlap_TSS', 'reference_sequences', 'TSS_profile', 'library_tsse'\n",
       "    obsm: 'fragment_paired'"
      ]
     },
     "execution_count": 11,
     "metadata": {},
     "output_type": "execute_result"
    }
   ],
   "source": [
    "# Keep only 'high-quality' cells\n",
    "snap.pp.filter_cells(data, min_counts=5000, min_tsse=10, max_counts=100000)\n",
    "data"
   ]
  },
  {
   "cell_type": "markdown",
   "metadata": {},
   "source": [
    "## Creating a barcode x bins count matrix\n",
    "After filtering, we still have a **0** when we look at count matrix: `4563 x 0`\n",
    "`snap.pp.add_tile_matrix` takes care of creating the bins and count. There are some important parameter to consider.\n",
    "\n",
    "- `bin_size`: The default **500**. If you put a number greater than the largest chromosome you will effectively creating a barcode by chromosome matrix because that's the chromosome wil lbe the largest possible bin. \n",
    "- `exclude_chroms`: The default is to remove `['chrM', 'chrY', 'M', 'Y']`. It's good to remember that this default exists because for some analyses you might want `chrM`.\n",
    "- `min_frag_size` and `max_frag_size`: The default is to not filter based on fragment size. When we align we set the max fragment size to 2000bp but it really depends on the experiment. The idea is that fragments with such largest insertion sizes are artifacts.\n",
    "- `counting_strategy`: It must be one of the following: “fragment”, “insertion”, or “paired-insertion”. “fragment” means the feature counts are assigned based on the number of fragments that overlap with a region of interest. “insertion” means the feature counts are assigned based on the number of insertions that overlap with a region of interest. “paired-insertion” is similar to “insertion”, but it only counts the insertions once if the pair of insertions of a fragment are both within the same region of interest."
   ]
  },
  {
   "cell_type": "code",
   "execution_count": 12,
   "metadata": {},
   "outputs": [
    {
     "data": {
      "text/plain": [
       "AnnData object with n_obs x n_vars = 4563 x 6062095 backed at './pbmc_snapatac2_example.h5ad'\n",
       "    obs: 'n_fragment', 'frac_dup', 'frac_mito', 'tsse', 'peaks_frac'\n",
       "    uns: 'frag_size_distr', 'frac_overlap_TSS', 'reference_sequences', 'TSS_profile', 'library_tsse'\n",
       "    obsm: 'fragment_paired'"
      ]
     },
     "execution_count": 12,
     "metadata": {},
     "output_type": "execute_result"
    }
   ],
   "source": [
    "# Now we can add the tile matrix and select the features.\n",
    "snap.pp.add_tile_matrix(data,\n",
    "                        bin_size=500,\n",
    "                        exclude_chroms=['chrM', 'chrY', 'M', 'Y'],\n",
    "                        min_frag_size=0,\n",
    "                        max_frag_size=10000,\n",
    "                        counting_strategy='paired-insertion'\n",
    "                        )\n",
    "data"
   ]
  },
  {
   "cell_type": "markdown",
   "metadata": {},
   "source": [
    "Now we have a count matrix:\n",
    "`4563 x 6062095`"
   ]
  },
  {
   "cell_type": "code",
   "execution_count": 13,
   "metadata": {},
   "outputs": [
    {
     "name": "stderr",
     "output_type": "stream",
     "text": [
      "2025-02-28 12:54:44 - INFO - Selected 250000 features.\n"
     ]
    },
    {
     "data": {
      "text/plain": [
       "AnnData object with n_obs x n_vars = 4563 x 6062095 backed at './pbmc_snapatac2_example.h5ad'\n",
       "    obs: 'n_fragment', 'frac_dup', 'frac_mito', 'tsse', 'peaks_frac'\n",
       "    var: 'count', 'selected'\n",
       "    uns: 'frag_size_distr', 'frac_overlap_TSS', 'reference_sequences', 'TSS_profile', 'library_tsse'\n",
       "    obsm: 'fragment_paired'"
      ]
     },
     "execution_count": 13,
     "metadata": {},
     "output_type": "execute_result"
    }
   ],
   "source": [
    "# We don't usually need all the features. We can select the top features.\n",
    "# I don't have a strategy on how to choose the number.\n",
    "# It is important to know that we have the option to use a whitelist or a blacklist.\n",
    "# The whitelist is a list of features that you want to keep.\n",
    "# The blacklist is a list of features that you want to remove.\n",
    "snap.pp.select_features(data, n_features=250000, whitelist=None, blacklist=None)\n",
    "data"
   ]
  },
  {
   "cell_type": "markdown",
   "metadata": {},
   "source": [
    "## Doublets filtering\n",
    "I haven't played with this but I want to note that this possibility exist."
   ]
  },
  {
   "cell_type": "code",
   "execution_count": 14,
   "metadata": {},
   "outputs": [
    {
     "name": "stderr",
     "output_type": "stream",
     "text": [
      "2025-02-28 12:54:57 - INFO - Simulating doublets...\n",
      "2025-02-28 12:54:59 - INFO - Spectral embedding ...\n",
      "2025-02-28 12:57:21 - INFO - Calculating doublet scores...\n",
      "2025-02-28 12:57:42 - INFO - Detected doublet rate = 3.024%\n"
     ]
    },
    {
     "data": {
      "text/plain": [
       "AnnData object with n_obs x n_vars = 4425 x 6062095 backed at './pbmc_snapatac2_example.h5ad'\n",
       "    obs: 'n_fragment', 'frac_dup', 'frac_mito', 'tsse', 'peaks_frac', 'doublet_probability', 'doublet_score'\n",
       "    var: 'count', 'selected'\n",
       "    uns: 'frag_size_distr', 'frac_overlap_TSS', 'scrublet_sim_doublet_score', 'doublet_rate', 'reference_sequences', 'TSS_profile', 'library_tsse'\n",
       "    obsm: 'fragment_paired'"
      ]
     },
     "execution_count": 14,
     "metadata": {},
     "output_type": "execute_result"
    }
   ],
   "source": [
    "snap.pp.scrublet(data)\n",
    "snap.pp.filter_doublets(data)\n",
    "data"
   ]
  },
  {
   "cell_type": "markdown",
   "metadata": {},
   "source": [
    "# Clustering and UMAP\n",
    "\n",
    "There are so many parameters and it really depends on the dataset so I am just putting the name of the functions."
   ]
  },
  {
   "cell_type": "code",
   "execution_count": 15,
   "metadata": {},
   "outputs": [
    {
     "ename": "ModuleNotFoundError",
     "evalue": "No module named 'umap'",
     "output_type": "error",
     "traceback": [
      "\u001b[0;31m---------------------------------------------------------------------------\u001b[0m",
      "\u001b[0;31mModuleNotFoundError\u001b[0m                       Traceback (most recent call last)",
      "Cell \u001b[0;32mIn[15], line 2\u001b[0m\n\u001b[1;32m      1\u001b[0m snap\u001b[38;5;241m.\u001b[39mtl\u001b[38;5;241m.\u001b[39mspectral(data)\n\u001b[0;32m----> 2\u001b[0m \u001b[43msnap\u001b[49m\u001b[38;5;241;43m.\u001b[39;49m\u001b[43mtl\u001b[49m\u001b[38;5;241;43m.\u001b[39;49m\u001b[43mumap\u001b[49m\u001b[43m(\u001b[49m\u001b[43mdata\u001b[49m\u001b[43m)\u001b[49m\n\u001b[1;32m      3\u001b[0m snap\u001b[38;5;241m.\u001b[39mpp\u001b[38;5;241m.\u001b[39mknn(data)\n\u001b[1;32m      4\u001b[0m snap\u001b[38;5;241m.\u001b[39mtl\u001b[38;5;241m.\u001b[39mleiden(data)\n",
      "File \u001b[0;32m~/GitHub/broad-epi-workflows-collection/.venv/lib/python3.9/site-packages/snapatac2/tools/_embedding.py:100\u001b[0m, in \u001b[0;36mumap\u001b[0;34m(adata, n_comps, use_dims, use_rep, key_added, random_state, inplace, **kwargs)\u001b[0m\n\u001b[1;32m     63\u001b[0m \u001b[38;5;28;01mdef\u001b[39;00m \u001b[38;5;21mumap\u001b[39m(\n\u001b[1;32m     64\u001b[0m     adata: internal\u001b[38;5;241m.\u001b[39mAnnData \u001b[38;5;241m|\u001b[39m internal\u001b[38;5;241m.\u001b[39mAnnDataSet \u001b[38;5;241m|\u001b[39m np\u001b[38;5;241m.\u001b[39mndarray,\n\u001b[1;32m     65\u001b[0m     n_comps: \u001b[38;5;28mint\u001b[39m \u001b[38;5;241m=\u001b[39m \u001b[38;5;241m2\u001b[39m,\n\u001b[0;32m   (...)\u001b[0m\n\u001b[1;32m     71\u001b[0m     \u001b[38;5;241m*\u001b[39m\u001b[38;5;241m*\u001b[39mkwargs\n\u001b[1;32m     72\u001b[0m ) \u001b[38;5;241m-\u001b[39m\u001b[38;5;241m>\u001b[39m np\u001b[38;5;241m.\u001b[39mndarray \u001b[38;5;241m|\u001b[39m \u001b[38;5;28;01mNone\u001b[39;00m:\n\u001b[1;32m     73\u001b[0m \u001b[38;5;250m    \u001b[39m\u001b[38;5;124;03m\"\"\"\u001b[39;00m\n\u001b[1;32m     74\u001b[0m \u001b[38;5;124;03m    Parameters\u001b[39;00m\n\u001b[1;32m     75\u001b[0m \u001b[38;5;124;03m    ----------\u001b[39;00m\n\u001b[0;32m   (...)\u001b[0m\n\u001b[1;32m     98\u001b[0m \u001b[38;5;124;03m        Otherwise, it returns the result as a numpy array.\u001b[39;00m\n\u001b[1;32m     99\u001b[0m \u001b[38;5;124;03m    \"\"\"\u001b[39;00m\n\u001b[0;32m--> 100\u001b[0m     \u001b[38;5;28;01mfrom\u001b[39;00m \u001b[38;5;21;01mumap\u001b[39;00m \u001b[38;5;28;01mimport\u001b[39;00m UMAP\n\u001b[1;32m    102\u001b[0m     \u001b[38;5;28;01mif\u001b[39;00m is_anndata(adata):\n\u001b[1;32m    103\u001b[0m         data \u001b[38;5;241m=\u001b[39m adata\u001b[38;5;241m.\u001b[39mobsm[use_rep]\n",
      "\u001b[0;31mModuleNotFoundError\u001b[0m: No module named 'umap'"
     ]
    }
   ],
   "source": [
    "snap.tl.spectral(data)\n",
    "snap.tl.umap(data)\n",
    "snap.pp.knn(data)\n",
    "snap.tl.leiden(data)\n",
    "snap.pl.umap(data, color='leiden', interactive=False, height=500)\n"
   ]
  },
  {
   "cell_type": "markdown",
   "metadata": {},
   "source": [
    "# Extremely important. Close the file before exiting."
   ]
  },
  {
   "cell_type": "code",
   "execution_count": 26,
   "metadata": {},
   "outputs": [
    {
     "data": {
      "text/plain": [
       "Closed AnnData object"
      ]
     },
     "execution_count": 26,
     "metadata": {},
     "output_type": "execute_result"
    }
   ],
   "source": [
    "data.close()\n",
    "data"
   ]
  }
 ],
 "metadata": {
  "kernelspec": {
   "display_name": ".venv",
   "language": "python",
   "name": "python3"
  },
  "language_info": {
   "codemirror_mode": {
    "name": "ipython",
    "version": 3
   },
   "file_extension": ".py",
   "mimetype": "text/x-python",
   "name": "python",
   "nbconvert_exporter": "python",
   "pygments_lexer": "ipython3",
   "version": "3.9.6"
  }
 },
 "nbformat": 4,
 "nbformat_minor": 2
}
