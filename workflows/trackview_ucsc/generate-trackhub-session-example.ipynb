{
 "cells": [
  {
   "cell_type": "code",
   "execution_count": 13,
   "metadata": {},
   "outputs": [],
   "source": [
    "import os\n",
    "import sys\n",
    "from anvil.terra.api import FAPI\n",
    "from anvil.terra.api import get_projects, get_entities\n",
    "from anvil.terra import api\n",
    "\n",
    "sys.path.insert(0, os.path.abspath('../../src/python'))\n",
    "from trackview_utils import generate_signed_url_v4, encode_uri_component"
   ]
  },
  {
   "cell_type": "code",
   "execution_count": 14,
   "metadata": {},
   "outputs": [
    {
     "name": "stdout",
     "output_type": "stream",
     "text": [
      "21\n"
     ]
    }
   ],
   "source": [
    "# Terra workspace in the form of 'namespace/name'\n",
    "\n",
    "workspace_project = \"Calico_SETDB1\"\n",
    "workspace_namespace = \"SETDB1-point-mutants\"\n",
    "workspace_table = \"chip_march_2024_merged\"\n",
    "\n",
    "json_credentials = \"\" # Path to the JSON credentials file for a service account authorized in Terra\n",
    "\n",
    "table = FAPI.get_entities(workspace_project, workspace_namespace, workspace_table).json()\n",
    "print(len(table))"
   ]
  },
  {
   "cell_type": "code",
   "execution_count": 17,
   "metadata": {},
   "outputs": [
    {
     "name": "stdout",
     "output_type": "stream",
     "text": [
      "22\n"
     ]
    }
   ],
   "source": [
    "ucsc_custom_text = []\n",
    "ucsc_custom_text.append( \"browser position chr19:11500000-12000000\")\n",
    "\n",
    "track_type = \"bigWig\"\n",
    "track_name = \"\"\n",
    "track_description = \"\"\n",
    "track_windowing_function = \"mean\"\n",
    "track_visibility = \"full\"\n",
    "track_max_height_pixels = 70\n",
    "track_auto_scale = \"off\"\n",
    "track_view_limits = \"0:70\"\n",
    "track_color = \"0,0,0\"\n",
    "track_big_data_url = \"\"\n",
    "\n",
    "#TODO: choose the color on the track based on the epitope or track name\n",
    "\n",
    "# IMPORTANT: Change the name of the keys according to your Terra table\n",
    "for attribute in table:\n",
    "    row = attribute[\"attributes\"]\n",
    "    track_name = attribute['name']\n",
    "    track_description = attribute['name']\n",
    "    bucket_name, file_name = row['igvtools_count_bw'][5:].split(\"/\", 1)\n",
    "    track_big_data_url = generate_signed_url_v4(bucket_name, file_name, json_credentials)\n",
    "    if 'distinct_fragments' in row:\n",
    "        distinct_fragments = str(row['distinct_fragments'])\n",
    "        track_view_limits = f\"0:{distinct_fragments[:2]}\"\n",
    "    ucsc_custom_text.append(F\"track type={track_type} name=\\\"{track_name}\\\" description=\\\"{track_description}\\\" windowingFunction={track_windowing_function} visibility={track_visibility} maxHeightPixels={track_max_height_pixels} autoScale={track_auto_scale} viewLimits={track_view_limits} color={track_color} bigDataUrl={track_big_data_url}\")\n",
    "\n",
    "# Open the file in write mode ('w')\n",
    "with open('custom_text.txt', 'w') as file:\n",
    "    # Write the joined string to the file\n",
    "    file.write('\\n'.join(ucsc_custom_text))\n",
    "\n",
    "print(len(ucsc_custom_text))"
   ]
  },
  {
   "cell_type": "code",
   "execution_count": 18,
   "metadata": {},
   "outputs": [
    {
     "name": "stdout",
     "output_type": "stream",
     "text": [
      "https://genome.ucsc.edu/cgi-bin/hgTracks?db=mm10&hgt.customText=https%3A%2F%2Fstorage.googleapis.com%2Fbroad-bernstein-ucsc-trackhubs%2Fucsc%2Fcustom_text2.txt&hgS_doLoadUrl=submit&hgS_loadUrlName=https%3A%2F%2Fstorage.googleapis.com%2Fbroad-bernstein-ucsc-trackhubs%2Fucsc%2Fsession.txt\n"
     ]
    }
   ],
   "source": [
    "# the custom_text.txt file needs to be uploaded to a public bucket\n",
    "sanitized_custom_text_link = encode_uri_component(\"https://storage.googleapis.com/path/custom_text.txt\")\n",
    "# session.txt is in this repo in /data/ucsc/session.txt\n",
    "sanitized_session_link = encode_uri_component(\"https://storage.googleapis.com/path/session.txt\")\n",
    "ucsc_final_url = f\"https://genome.ucsc.edu/cgi-bin/hgTracks?db=mm10&hgt.customText={sanitized_custom_text_link}&hgS_doLoadUrl=submit&hgS_loadUrlName={sanitized_session_link}\"\n",
    "print(ucsc_final_url)"
   ]
  }
 ],
 "metadata": {
  "kernelspec": {
   "display_name": ".venv",
   "language": "python",
   "name": "python3"
  },
  "language_info": {
   "codemirror_mode": {
    "name": "ipython",
    "version": 3
   },
   "file_extension": ".py",
   "mimetype": "text/x-python",
   "name": "python",
   "nbconvert_exporter": "python",
   "pygments_lexer": "ipython3",
   "version": "3.9.6"
  }
 },
 "nbformat": 4,
 "nbformat_minor": 2
}
