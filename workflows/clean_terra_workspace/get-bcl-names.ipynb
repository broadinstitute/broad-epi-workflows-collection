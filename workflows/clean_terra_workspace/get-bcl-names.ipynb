{
 "cells": [
  {
   "cell_type": "code",
   "execution_count": 1,
   "metadata": {},
   "outputs": [],
   "source": [
    "import logging\n",
    "import os\n",
    "import sys\n",
    "import json\n",
    "from datetime import date\n",
    "from firecloud import api as fapi\n",
    "from oauth2client.client import GoogleCredentials\n",
    "sys.path.insert(0, os.path.abspath('../../src/python'))\n",
    "from terra_workspace_utils import get_workspace_submissions, get_gs_links_for_failed_workflows\n",
    "\n",
    "#pip install firecloud\n",
    "logging.basicConfig(filename='workspace-utils-app.log', filemode='w', format='%(name)s - %(levelname)s - %(message)s')"
   ]
  },
  {
   "cell_type": "code",
   "execution_count": null,
   "metadata": {},
   "outputs": [
    {
     "name": "stdout",
     "output_type": "stream",
     "text": [
      "deleteIntermediateOutputFiles\n",
      "methodConfigurationDeleted\n",
      "methodConfigurationName\n",
      "methodConfigurationNamespace\n",
      "status\n",
      "submissionDate\n",
      "submissionEntity\n",
      "submissionId\n",
      "submissionRoot\n",
      "submitter\n",
      "useCallCache\n",
      "userComment\n",
      "workflowStatuses\n"
     ]
    }
   ],
   "source": [
    "# Terra workspace in the form of 'project/namespace'\n",
    "workspace_project = \"\"\n",
    "workspace_namespace = \"\"\n",
    "\n",
    "\n",
    "# Get all submissions for a workspace\n",
    "all_submissions = get_workspace_submissions(workspace_project, workspace_namespace)\n",
    "print(\"\\n\".join(all_submissions[0].keys()))"
   ]
  },
  {
   "cell_type": "code",
   "execution_count": 20,
   "metadata": {},
   "outputs": [
    {
     "name": "stdout",
     "output_type": "stream",
     "text": [
      "1\n",
      "c572af80-99f4-473b-9d9c-b1f0188b0c15\n",
      "({'tasks': {'combinomics': {'outputs': {'combinomics.atac_fragments_index': 'gs://fc-6633659c-9a48-4752-8652-c7d16f31c8da/submissions/00f3a873-14d3-4e47-9bd5-919be7a7c73c/combinomics/c572af80-99f4-473b-9d9c-b1f0188b0c15/call-atac/wf_atac/e2fbe5ae-ecec-4770-84dd-aeccd736fdce/call-align/combinomics.atac.fragments.hg38.tsv.gz.tbi', 'combinomics.rna_seurat_obj': 'gs://fc-6633659c-9a48-4752-8652-c7d16f31c8da/submissions/00f3a873-14d3-4e47-9bd5-919be7a7c73c/combinomics/c572af80-99f4-473b-9d9c-b1f0188b0c15/call-rna/wf_rna/60a53939-f6c8-4cda-a2bf-4c52ebbd9883/call-seurat/combinomics.rna.seurat.filtered_rds.hg38.rds', 'combinomics.rna_final_bam': 'gs://fc-6633659c-9a48-4752-8652-c7d16f31c8da/submissions/00f3a873-14d3-4e47-9bd5-919be7a7c73c/combinomics/c572af80-99f4-473b-9d9c-b1f0188b0c15/call-rna/wf_rna/60a53939-f6c8-4cda-a2bf-4c52ebbd9883/call-align/cacheCopy/result/combinomics.Aligned.sortedByCoord.out.bam', 'combinomics.csv_summary_file': 'gs://fc-6633659c-9a48-4752-8652-c7d16f31c8da/submissions/00f3a873-14d3-4e47-9bd5-919be7a7c73c/combinomics/c572af80-99f4-473b-9d9c-b1f0188b0c15/call-html_report/combinomics.csv', 'combinomics.joint_barcode_metadata': 'gs://fc-6633659c-9a48-4752-8652-c7d16f31c8da/submissions/00f3a873-14d3-4e47-9bd5-919be7a7c73c/combinomics/c572af80-99f4-473b-9d9c-b1f0188b0c15/call-joint_qc/combinomics.joint.barcode.metadata.hg38.csv', 'combinomics.rna_seurat_notebook_output': 'gs://fc-6633659c-9a48-4752-8652-c7d16f31c8da/submissions/00f3a873-14d3-4e47-9bd5-919be7a7c73c/combinomics/c572af80-99f4-473b-9d9c-b1f0188b0c15/call-rna/wf_rna/60a53939-f6c8-4cda-a2bf-4c52ebbd9883/call-seurat/combinomics.rna.seurat.notebook.hg38.ipynb', 'combinomics.rna_h5': 'gs://fc-6633659c-9a48-4752-8652-c7d16f31c8da/submissions/00f3a873-14d3-4e47-9bd5-919be7a7c73c/combinomics/c572af80-99f4-473b-9d9c-b1f0188b0c15/call-rna/wf_rna/60a53939-f6c8-4cda-a2bf-4c52ebbd9883/call-generate_h5/cacheCopy/combinomics.hg38.rna.h5', 'combinomics.atac_barcode_alignment_stats': 'gs://fc-6633659c-9a48-4752-8652-c7d16f31c8da/submissions/00f3a873-14d3-4e47-9bd5-919be7a7c73c/combinomics/c572af80-99f4-473b-9d9c-b1f0188b0c15/call-atac/wf_atac/e2fbe5ae-ecec-4770-84dd-aeccd736fdce/call-align/combinomics.atac.align.k4.hg38.barcode.summary.csv', 'combinomics.atac_barcode_metrics': 'gs://fc-6633659c-9a48-4752-8652-c7d16f31c8da/submissions/00f3a873-14d3-4e47-9bd5-919be7a7c73c/combinomics/c572af80-99f4-473b-9d9c-b1f0188b0c15/call-atac/wf_atac/e2fbe5ae-ecec-4770-84dd-aeccd736fdce/call-qc_atac/combinomics_barcode_metrics.tsv', 'combinomics.rna_bam_index': 'gs://fc-6633659c-9a48-4752-8652-c7d16f31c8da/submissions/00f3a873-14d3-4e47-9bd5-919be7a7c73c/combinomics/c572af80-99f4-473b-9d9c-b1f0188b0c15/call-rna/wf_rna/60a53939-f6c8-4cda-a2bf-4c52ebbd9883/call-align/cacheCopy/result/combinomics.Aligned.sortedByCoord.out.bam.bai', 'combinomics.rna_barcode_metadata': 'gs://fc-6633659c-9a48-4752-8652-c7d16f31c8da/submissions/00f3a873-14d3-4e47-9bd5-919be7a7c73c/combinomics/c572af80-99f4-473b-9d9c-b1f0188b0c15/call-rna/wf_rna/60a53939-f6c8-4cda-a2bf-4c52ebbd9883/call-qc_rna/combinomics.qc.rna.hg38.barcode.metadata.tsv', 'combinomics.atac_h5ad': 'gs://fc-6633659c-9a48-4752-8652-c7d16f31c8da/submissions/00f3a873-14d3-4e47-9bd5-919be7a7c73c/combinomics/c572af80-99f4-473b-9d9c-b1f0188b0c15/call-atac/wf_atac/e2fbe5ae-ecec-4770-84dd-aeccd736fdce/call-qc_atac/combinomics_snap.h5ad', 'combinomics.combinomics_struct_output': {'atac_struct_output': {'alignment_log': 'gs://fc-6633659c-9a48-4752-8652-c7d16f31c8da/submissions/00f3a873-14d3-4e47-9bd5-919be7a7c73c/combinomics/c572af80-99f4-473b-9d9c-b1f0188b0c15/call-atac/wf_atac/e2fbe5ae-ecec-4770-84dd-aeccd736fdce/call-align/combinomics.atac.align.k4.hg38.log.txt', 'alignment_tool_version': '0.2.7-r493', 'atac_bam_alignment_stats': None, 'atac_extra_metadata': None, 'bai': None, 'bam': None, 'barcode_alignment_statistics': 'gs://fc-6633659c-9a48-4752-8652-c7d16f31c8da/submissions/00f3a873-14d3-4e47-9bd5-919be7a7c73c/combinomics/c572af80-99f4-473b-9d9c-b1f0188b0c15/call-atac/wf_atac/e2fbe5ae-ecec-4770-84dd-aeccd736fdce/call-align/combinomics.atac.align.k4.hg38.barcode.summary.csv', 'barcode_count_lenient_filter': 313571, 'barcode_count_raw': 688476, 'barcode_count_strict_filter': 67680, 'barcode_metrics': 'gs://fc-6633659c-9a48-4752-8652-c7d16f31c8da/submissions/00f3a873-14d3-4e47-9bd5-919be7a7c73c/combinomics/c572af80-99f4-473b-9d9c-b1f0188b0c15/call-atac/wf_atac/e2fbe5ae-ecec-4770-84dd-aeccd736fdce/call-qc_atac/combinomics_barcode_metrics.tsv', 'bigwig': None, 'bigwig_mono_nucleosome': None, 'bigwig_multi_nucleosome': None, 'bigwig_no_nucleosome': None, 'corrected_barcodes': 57014992, 'final_number_of_fragments': 654344279, 'fraction_of_duplicates_distribution_plot': 'gs://fc-6633659c-9a48-4752-8652-c7d16f31c8da/submissions/00f3a873-14d3-4e47-9bd5-919be7a7c73c/combinomics/c572af80-99f4-473b-9d9c-b1f0188b0c15/call-atac/wf_atac/e2fbe5ae-ecec-4770-84dd-aeccd736fdce/call-qc_atac/combinomics_fraction_of_duplicates_distribution.png', 'fraction_of_mito_distribution_plot': 'gs://fc-6633659c-9a48-4752-8652-c7d16f31c8da/submissions/00f3a873-14d3-4e47-9bd5-919be7a7c73c/combinomics/c572af80-99f4-473b-9d9c-b1f0188b0c15/call-atac/wf_atac/e2fbe5ae-ecec-4770-84dd-aeccd736fdce/call-qc_atac/combinomics_fraction_of_mitochondrial_fragments_distribution.png', 'fragment_file': 'gs://fc-6633659c-9a48-4752-8652-c7d16f31c8da/submissions/00f3a873-14d3-4e47-9bd5-919be7a7c73c/combinomics/c572af80-99f4-473b-9d9c-b1f0188b0c15/call-atac/wf_atac/e2fbe5ae-ecec-4770-84dd-aeccd736fdce/call-align/combinomics.atac.fragments.hg38.tsv.gz', 'fragment_file_index': 'gs://fc-6633659c-9a48-4752-8652-c7d16f31c8da/submissions/00f3a873-14d3-4e47-9bd5-919be7a7c73c/combinomics/c572af80-99f4-473b-9d9c-b1f0188b0c15/call-atac/wf_atac/e2fbe5ae-ecec-4770-84dd-aeccd736fdce/call-align/combinomics.atac.fragments.hg38.tsv.gz.tbi', 'fragment_file_sorted_by_barcode': 'gs://fc-6633659c-9a48-4752-8652-c7d16f31c8da/submissions/00f3a873-14d3-4e47-9bd5-919be7a7c73c/combinomics/c572af80-99f4-473b-9d9c-b1f0188b0c15/call-atac/wf_atac/e2fbe5ae-ecec-4770-84dd-aeccd736fdce/call-align/combinomics.atac.fragments.hg38.sorted.by.barcode.tsv', 'fragment_size_distribution_plot': 'gs://fc-6633659c-9a48-4752-8652-c7d16f31c8da/submissions/00f3a873-14d3-4e47-9bd5-919be7a7c73c/combinomics/c572af80-99f4-473b-9d9c-b1f0188b0c15/call-atac/wf_atac/e2fbe5ae-ecec-4770-84dd-aeccd736fdce/call-qc_atac/combinomics_fragment_size_distribution.png', 'h5ad': 'gs://fc-6633659c-9a48-4752-8652-c7d16f31c8da/submissions/00f3a873-14d3-4e47-9bd5-919be7a7c73c/combinomics/c572af80-99f4-473b-9d9c-b1f0188b0c15/call-atac/wf_atac/e2fbe5ae-ecec-4770-84dd-aeccd736fdce/call-qc_atac/combinomics_snap.h5ad', 'knee_plot': 'gs://fc-6633659c-9a48-4752-8652-c7d16f31c8da/submissions/00f3a873-14d3-4e47-9bd5-919be7a7c73c/combinomics/c572af80-99f4-473b-9d9c-b1f0188b0c15/call-atac/wf_atac/e2fbe5ae-ecec-4770-84dd-aeccd736fdce/call-qc_atac/combinomics_knee_plot.png', 'library_tss_overlap': 0.29, 'library_tsse': 6.82, 'mapped_reads': 1781330606, 'multi_mapping_reads': 97069214, 'multi_mappings_fragments': 40822531, 'n_fragment_vs_tss_enrichment_filtered_plot': 'gs://fc-6633659c-9a48-4752-8652-c7d16f31c8da/submissions/00f3a873-14d3-4e47-9bd5-919be7a7c73c/combinomics/c572af80-99f4-473b-9d9c-b1f0188b0c15/call-atac/wf_atac/e2fbe5ae-ecec-4770-84dd-aeccd736fdce/call-qc_atac/combinomics_n_fragment_vs_TSS_enrichment_filtered.png', 'n_fragment_vs_tss_enrichment_plot': 'gs://fc-6633659c-9a48-4752-8652-c7d16f31c8da/submissions/00f3a873-14d3-4e47-9bd5-919be7a7c73c/combinomics/c572af80-99f4-473b-9d9c-b1f0188b0c15/call-atac/wf_atac/e2fbe5ae-ecec-4770-84dd-aeccd736fdce/call-qc_atac/combinomics_n_fragment_vs_TSS_enrichment.png', 'pcr_duplicates_percentage': 26.5, 'reads_count': 1960872010, 'tss_enrichment_library_plot': 'gs://fc-6633659c-9a48-4752-8652-c7d16f31c8da/submissions/00f3a873-14d3-4e47-9bd5-919be7a7c73c/combinomics/c572af80-99f4-473b-9d9c-b1f0188b0c15/call-atac/wf_atac/e2fbe5ae-ecec-4770-84dd-aeccd736fdce/call-qc_atac/combinomics_TSS_enrichment.png', 'umap_leiden_plot': 'gs://fc-6633659c-9a48-4752-8652-c7d16f31c8da/submissions/00f3a873-14d3-4e47-9bd5-919be7a7c73c/combinomics/c572af80-99f4-473b-9d9c-b1f0188b0c15/call-atac/wf_atac/e2fbe5ae-ecec-4770-84dd-aeccd736fdce/call-qc_atac/combinomics_umap_leiden.png', 'unique_mappings_fragments': 613521748, 'unique_reads': 1684261392}, 'joint_struct_output': {'joint_barcode_metadata': 'gs://fc-6633659c-9a48-4752-8652-c7d16f31c8da/submissions/00f3a873-14d3-4e47-9bd5-919be7a7c73c/combinomics/c572af80-99f4-473b-9d9c-b1f0188b0c15/call-joint_qc/combinomics.joint.barcode.metadata.hg38.csv', 'joint_density_plot': 'gs://fc-6633659c-9a48-4752-8652-c7d16f31c8da/submissions/00f3a873-14d3-4e47-9bd5-919be7a7c73c/combinomics/c572af80-99f4-473b-9d9c-b1f0188b0c15/call-joint_qc/combinomics.hg38.joint.density.plot.png', 'joint_qc_plot': 'gs://fc-6633659c-9a48-4752-8652-c7d16f31c8da/submissions/00f3a873-14d3-4e47-9bd5-919be7a7c73c/combinomics/c572af80-99f4-473b-9d9c-b1f0188b0c15/call-atac/wf_atac/e2fbe5ae-ecec-4770-84dd-aeccd736fdce/call-qc_atac/combinomics_barcode_metrics.tsv'}, 'rna_struct_output': {'rna_aligned_multimap': 32634721, 'rna_aligned_reads': 741046211, 'rna_aligned_uniquely': 708411490, 'rna_duplicate_reads': 751715839, 'rna_estimated_cells': 6846, 'rna_exact_match_barcodes': 736868248, 'rna_extra_metadata': None, 'rna_frac_q30_bases_in_cb_umi': 0.97, 'rna_frac_q30_bases_in_read': 0.96, 'rna_frac_unique_reads_in_cells': 0.72, 'rna_frac_valid_barcodes': 0.91, 'rna_genes': 31917, 'rna_homopolymer_umis': 1148523, 'rna_input_reads': 838351331, 'rna_median_reads_per_cell': 15072, 'rna_median_umis_per_cell': 846, 'rna_mismatch_barcodes': 15220120, 'rna_nonmatch_barcodes': 71358220, 'rna_percent_duplicates': 98.5, 'rna_percent_mitochondrial': 0.2, 'rna_qc_metrics': 'gs://fc-6633659c-9a48-4752-8652-c7d16f31c8da/submissions/00f3a873-14d3-4e47-9bd5-919be7a7c73c/combinomics/c572af80-99f4-473b-9d9c-b1f0188b0c15/call-rna/wf_rna/60a53939-f6c8-4cda-a2bf-4c52ebbd9883/call-log_rna/combinomics_rna_qc_metrics.csv', 'rna_qc_rna_frig': 0.01, 'rna_sequencing_saturation': 0.94, 'rna_starsolo_frig': -1.0, 'rna_unaligned_reads': 97305120, 'rna_unique_reads_mapped_to_genes': 11282469}}, 'combinomics.atac_bam_log': None, 'combinomics.html_summary': 'gs://fc-6633659c-9a48-4752-8652-c7d16f31c8da/submissions/00f3a873-14d3-4e47-9bd5-919be7a7c73c/combinomics/c572af80-99f4-473b-9d9c-b1f0188b0c15/call-html_report/combinomics.html', 'combinomics.atac_final_bam': None, 'combinomics.atac_fragments': 'gs://fc-6633659c-9a48-4752-8652-c7d16f31c8da/submissions/00f3a873-14d3-4e47-9bd5-919be7a7c73c/combinomics/c572af80-99f4-473b-9d9c-b1f0188b0c15/call-atac/wf_atac/e2fbe5ae-ecec-4770-84dd-aeccd736fdce/call-align/combinomics.atac.fragments.hg38.tsv.gz', 'combinomics.rna_align_output_folder_tar': 'gs://fc-6633659c-9a48-4752-8652-c7d16f31c8da/submissions/00f3a873-14d3-4e47-9bd5-919be7a7c73c/combinomics/c572af80-99f4-473b-9d9c-b1f0188b0c15/call-rna/wf_rna/60a53939-f6c8-4cda-a2bf-4c52ebbd9883/call-align/cacheCopy/combinomics.align.out.folder.tar.gz', 'combinomics.rna_starsolo_raw_tar': 'gs://fc-6633659c-9a48-4752-8652-c7d16f31c8da/submissions/00f3a873-14d3-4e47-9bd5-919be7a7c73c/combinomics/c572af80-99f4-473b-9d9c-b1f0188b0c15/call-rna/wf_rna/60a53939-f6c8-4cda-a2bf-4c52ebbd9883/call-align/cacheCopy/result/combinomics.unique.raw.mtx.tar.gz', 'combinomics.atac_bam_index': None}}, 'combinomics.barcode_mapping': {'logs': [{'backendLogs': {'log': 'gs://fc-6633659c-9a48-4752-8652-c7d16f31c8da/submissions/00f3a873-14d3-4e47-9bd5-919be7a7c73c/combinomics/c572af80-99f4-473b-9d9c-b1f0188b0c15/call-barcode_mapping/barcode_mapping.log'}, 'stderr': 'gs://fc-6633659c-9a48-4752-8652-c7d16f31c8da/submissions/00f3a873-14d3-4e47-9bd5-919be7a7c73c/combinomics/c572af80-99f4-473b-9d9c-b1f0188b0c15/call-barcode_mapping/stderr', 'stdout': 'gs://fc-6633659c-9a48-4752-8652-c7d16f31c8da/submissions/00f3a873-14d3-4e47-9bd5-919be7a7c73c/combinomics/c572af80-99f4-473b-9d9c-b1f0188b0c15/call-barcode_mapping/stdout'}]}, 'combinomics.html_report': {'logs': [{'backendLogs': {'log': 'gs://fc-6633659c-9a48-4752-8652-c7d16f31c8da/submissions/00f3a873-14d3-4e47-9bd5-919be7a7c73c/combinomics/c572af80-99f4-473b-9d9c-b1f0188b0c15/call-html_report/html_report.log'}, 'stderr': 'gs://fc-6633659c-9a48-4752-8652-c7d16f31c8da/submissions/00f3a873-14d3-4e47-9bd5-919be7a7c73c/combinomics/c572af80-99f4-473b-9d9c-b1f0188b0c15/call-html_report/stderr', 'stdout': 'gs://fc-6633659c-9a48-4752-8652-c7d16f31c8da/submissions/00f3a873-14d3-4e47-9bd5-919be7a7c73c/combinomics/c572af80-99f4-473b-9d9c-b1f0188b0c15/call-html_report/stdout'}]}, 'combinomics.joint_qc': {'logs': [{'backendLogs': {'log': 'gs://fc-6633659c-9a48-4752-8652-c7d16f31c8da/submissions/00f3a873-14d3-4e47-9bd5-919be7a7c73c/combinomics/c572af80-99f4-473b-9d9c-b1f0188b0c15/call-joint_qc/joint_qc.log'}, 'stderr': 'gs://fc-6633659c-9a48-4752-8652-c7d16f31c8da/submissions/00f3a873-14d3-4e47-9bd5-919be7a7c73c/combinomics/c572af80-99f4-473b-9d9c-b1f0188b0c15/call-joint_qc/stderr', 'stdout': 'gs://fc-6633659c-9a48-4752-8652-c7d16f31c8da/submissions/00f3a873-14d3-4e47-9bd5-919be7a7c73c/combinomics/c572af80-99f4-473b-9d9c-b1f0188b0c15/call-joint_qc/stdout'}]}}, 'workflowId': 'c572af80-99f4-473b-9d9c-b1f0188b0c15'}, True)\n"
     ]
    }
   ],
   "source": [
    "from terra_workspace_utils import get_workflows_by_submission, get_workflow_outputs\n",
    "\n",
    "# Get all workflows for a submission\n",
    "submission = all_submissions[1]\n",
    "workflows = get_workflows_by_submission(workspace_project, workspace_namespace, submission['submissionId'])\n",
    "print(len(workflows[\"workflows\"]))\n",
    "# This is the example for just the first workflow. You can loop through all workflows if you have more than one.\n",
    "print(workflows[\"workflows\"][0][\"workflowId\"])\n",
    "outputs = get_workflow_outputs(workspace_project, workspace_namespace, submission['submissionId'], workflows[\"workflows\"][0][\"workflowId\"])\n",
    "print(outputs)"
   ]
  },
  {
   "cell_type": "code",
   "execution_count": 21,
   "metadata": {},
   "outputs": [],
   "source": [
    "# Get all workflows for a submission and write outputs to a file\n",
    "with open('list_processed_bcls_data_production_processing.txt', 'w') as file:\n",
    "    for submission in all_submissions:\n",
    "        workflows = get_workflows_by_submission(workspace_project, workspace_namespace, submission['submissionId'])\n",
    "        for workflow in workflows[\"workflows\"]:\n",
    "            if workflow['inputResolutions'][0]['inputName'] == \"wf_preprocess.bcl\":\n",
    "                file.write(f\"{workflow['inputResolutions'][0]['value']}\\n\")\n"
   ]
  },
  {
   "cell_type": "code",
   "execution_count": null,
   "metadata": {},
   "outputs": [],
   "source": []
  }
 ],
 "metadata": {
  "kernelspec": {
   "display_name": ".venv",
   "language": "python",
   "name": "python3"
  },
  "language_info": {
   "codemirror_mode": {
    "name": "ipython",
    "version": 3
   },
   "file_extension": ".py",
   "mimetype": "text/x-python",
   "name": "python",
   "nbconvert_exporter": "python",
   "pygments_lexer": "ipython3",
   "version": "3.9.6"
  }
 },
 "nbformat": 4,
 "nbformat_minor": 2
}
