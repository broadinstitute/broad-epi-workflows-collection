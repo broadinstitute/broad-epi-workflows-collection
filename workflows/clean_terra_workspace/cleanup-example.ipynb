{
 "cells": [
  {
   "cell_type": "code",
   "execution_count": 2,
   "metadata": {},
   "outputs": [],
   "source": [
    "import logging\n",
    "import os\n",
    "import sys\n",
    "import json\n",
    "from datetime import date\n",
    "from firecloud import api as fapi\n",
    "from oauth2client.client import GoogleCredentials\n",
    "sys.path.insert(0, os.path.abspath('../../src/python'))\n",
    "from terra_workspace_utils import get_workspace_submissions, get_gs_links_for_failed_workflows\n",
    "\n",
    "#pip install firecloud\n",
    "logging.basicConfig(filename='workspace-utils-app.log', filemode='w', format='%(name)s - %(levelname)s - %(message)s')"
   ]
  },
  {
   "cell_type": "code",
   "execution_count": 3,
   "metadata": {},
   "outputs": [
    {
     "name": "stdout",
     "output_type": "stream",
     "text": [
      "deleteIntermediateOutputFiles\n",
      "methodConfigurationDeleted\n",
      "methodConfigurationName\n",
      "methodConfigurationNamespace\n",
      "status\n",
      "submissionDate\n",
      "submissionEntity\n",
      "submissionId\n",
      "submissionRoot\n",
      "submitter\n",
      "useCallCache\n",
      "userComment\n",
      "workflowStatuses\n"
     ]
    }
   ],
   "source": [
    "# Terra workspace in the form of 'namespace/name'\n",
    "workspace_project = \"IGVF_data_analysis\"\n",
    "workspace_namespace = \"IGVF-mouse-brain-bridge\"\n",
    "\n",
    "# Get all submissions for a workspace\n",
    "all_submissions = get_workspace_submissions(workspace_project, workspace_namespace)\n",
    "print(\"\\n\".join(all_submissions[0].keys()))"
   ]
  },
  {
   "cell_type": "code",
   "execution_count": 27,
   "metadata": {},
   "outputs": [
    {
     "name": "stdout",
     "output_type": "stream",
     "text": [
      "56\n",
      "3ebc1235-cc72-404d-9215-936d8f020b56\n",
      "({'tasks': {'chromap_test': {'outputs': {'chromap_test.atac_bam': 'gs://fc-346be0df-e23b-4ecf-95f3-ea8e723369f8/submissions/2b88a1b6-95a5-4baa-83b9-fd284bf376d4/chromap_test/3ebc1235-cc72-404d-9215-936d8f020b56/call-atac_align_chromap/SS-PKR-265-192-PLATE1-1st-QUARTER.atac.filter.fragments.mm39.bam'}}, 'chromap_test.atac_align_chromap': {'logs': [{'backendLogs': {'log': 'gs://fc-346be0df-e23b-4ecf-95f3-ea8e723369f8/submissions/2b88a1b6-95a5-4baa-83b9-fd284bf376d4/chromap_test/3ebc1235-cc72-404d-9215-936d8f020b56/call-atac_align_chromap/atac_align_chromap.log'}, 'stderr': 'gs://fc-346be0df-e23b-4ecf-95f3-ea8e723369f8/submissions/2b88a1b6-95a5-4baa-83b9-fd284bf376d4/chromap_test/3ebc1235-cc72-404d-9215-936d8f020b56/call-atac_align_chromap/stderr', 'stdout': 'gs://fc-346be0df-e23b-4ecf-95f3-ea8e723369f8/submissions/2b88a1b6-95a5-4baa-83b9-fd284bf376d4/chromap_test/3ebc1235-cc72-404d-9215-936d8f020b56/call-atac_align_chromap/stdout'}]}, 'chromap_test.barcode': {'logs': [{'backendLogs': {'log': 'gs://fc-346be0df-e23b-4ecf-95f3-ea8e723369f8/submissions/2b88a1b6-95a5-4baa-83b9-fd284bf376d4/chromap_test/3ebc1235-cc72-404d-9215-936d8f020b56/call-barcode/shard-0/barcode-0.log'}, 'stderr': 'gs://fc-346be0df-e23b-4ecf-95f3-ea8e723369f8/submissions/2b88a1b6-95a5-4baa-83b9-fd284bf376d4/chromap_test/3ebc1235-cc72-404d-9215-936d8f020b56/call-barcode/shard-0/stderr', 'stdout': 'gs://fc-346be0df-e23b-4ecf-95f3-ea8e723369f8/submissions/2b88a1b6-95a5-4baa-83b9-fd284bf376d4/chromap_test/3ebc1235-cc72-404d-9215-936d8f020b56/call-barcode/shard-0/stdout'}, {'backendLogs': {'log': 'gs://fc-346be0df-e23b-4ecf-95f3-ea8e723369f8/submissions/2b88a1b6-95a5-4baa-83b9-fd284bf376d4/chromap_test/3ebc1235-cc72-404d-9215-936d8f020b56/call-barcode/shard-1/barcode-1.log'}, 'stderr': 'gs://fc-346be0df-e23b-4ecf-95f3-ea8e723369f8/submissions/2b88a1b6-95a5-4baa-83b9-fd284bf376d4/chromap_test/3ebc1235-cc72-404d-9215-936d8f020b56/call-barcode/shard-1/stderr', 'stdout': 'gs://fc-346be0df-e23b-4ecf-95f3-ea8e723369f8/submissions/2b88a1b6-95a5-4baa-83b9-fd284bf376d4/chromap_test/3ebc1235-cc72-404d-9215-936d8f020b56/call-barcode/shard-1/stdout'}, {'backendLogs': {'log': 'gs://fc-346be0df-e23b-4ecf-95f3-ea8e723369f8/submissions/2b88a1b6-95a5-4baa-83b9-fd284bf376d4/chromap_test/3ebc1235-cc72-404d-9215-936d8f020b56/call-barcode/shard-2/barcode-2.log'}, 'stderr': 'gs://fc-346be0df-e23b-4ecf-95f3-ea8e723369f8/submissions/2b88a1b6-95a5-4baa-83b9-fd284bf376d4/chromap_test/3ebc1235-cc72-404d-9215-936d8f020b56/call-barcode/shard-2/stderr', 'stdout': 'gs://fc-346be0df-e23b-4ecf-95f3-ea8e723369f8/submissions/2b88a1b6-95a5-4baa-83b9-fd284bf376d4/chromap_test/3ebc1235-cc72-404d-9215-936d8f020b56/call-barcode/shard-2/stdout'}, {'backendLogs': {'log': 'gs://fc-346be0df-e23b-4ecf-95f3-ea8e723369f8/submissions/2b88a1b6-95a5-4baa-83b9-fd284bf376d4/chromap_test/3ebc1235-cc72-404d-9215-936d8f020b56/call-barcode/shard-3/barcode-3.log'}, 'stderr': 'gs://fc-346be0df-e23b-4ecf-95f3-ea8e723369f8/submissions/2b88a1b6-95a5-4baa-83b9-fd284bf376d4/chromap_test/3ebc1235-cc72-404d-9215-936d8f020b56/call-barcode/shard-3/stderr', 'stdout': 'gs://fc-346be0df-e23b-4ecf-95f3-ea8e723369f8/submissions/2b88a1b6-95a5-4baa-83b9-fd284bf376d4/chromap_test/3ebc1235-cc72-404d-9215-936d8f020b56/call-barcode/shard-3/stdout'}, {'backendLogs': {'log': 'gs://fc-346be0df-e23b-4ecf-95f3-ea8e723369f8/submissions/2b88a1b6-95a5-4baa-83b9-fd284bf376d4/chromap_test/3ebc1235-cc72-404d-9215-936d8f020b56/call-barcode/shard-4/barcode-4.log'}, 'stderr': 'gs://fc-346be0df-e23b-4ecf-95f3-ea8e723369f8/submissions/2b88a1b6-95a5-4baa-83b9-fd284bf376d4/chromap_test/3ebc1235-cc72-404d-9215-936d8f020b56/call-barcode/shard-4/stderr', 'stdout': 'gs://fc-346be0df-e23b-4ecf-95f3-ea8e723369f8/submissions/2b88a1b6-95a5-4baa-83b9-fd284bf376d4/chromap_test/3ebc1235-cc72-404d-9215-936d8f020b56/call-barcode/shard-4/stdout'}]}}, 'workflowId': '3ebc1235-cc72-404d-9215-936d8f020b56'}, True)\n"
     ]
    }
   ],
   "source": [
    "from terra_workspace_utils import get_workflows_by_submission, get_workflow_outputs\n",
    "\n",
    "# Get all workflows for a submission\n",
    "submission = all_submissions[1]\n",
    "workflows = get_workflows_by_submission(workspace_project, workspace_namespace, submission['submissionId'])\n",
    "print(len(workflows[\"workflows\"]))\n",
    "# This is the example for just the first workflow. You can loop through all workflows if you have more than one.\n",
    "print(workflows[\"workflows\"][0][\"workflowId\"])\n",
    "outputs = get_workflow_outputs(workspace_project, workspace_namespace, submission['submissionId'], workflows[\"workflows\"][0][\"workflowId\"])\n",
    "print(outputs)"
   ]
  },
  {
   "cell_type": "code",
   "execution_count": 5,
   "metadata": {},
   "outputs": [],
   "source": [
    "def make_filter_by_date(target_date, newer=True):\n",
    "    \"\"\"\n",
    "    Returns a filter function that filters submissions based on the submission date.\n",
    "\n",
    "    Parameters:\n",
    "    - target_date (datetime.date): The target date to filter by.\n",
    "    - newer (bool, optional): If True, filters submissions with dates greater than the target date.\n",
    "                              If False, filters submissions with dates less than the target date.\n",
    "                              Defaults to True.\n",
    "\n",
    "    Returns:\n",
    "    - filter_by_date (function): The filter function that can be used to filter submissions.\n",
    "    \"\"\"\n",
    "    def filter_by_date(x):\n",
    "        if newer:\n",
    "            return date.fromisoformat(x[\"submissionDate\"].split(\"T\")[0]) > target_date\n",
    "        else:\n",
    "            return date.fromisoformat(x[\"submissionDate\"].split(\"T\")[0]) < target_date\n",
    "    return filter_by_date\n",
    "\n",
    "def make_filter_by_submitter(email, exclude=False):\n",
    "    \"\"\"\n",
    "    Returns a filter function that filters submissions based on the submitter's email.\n",
    "\n",
    "    Parameters:\n",
    "    - email (str): The email of the submitter to filter by.\n",
    "    - exclude (bool, optional): If True, keep submissions that do not match the email.\n",
    "                                If False, keep submissions that match the email.\n",
    "                                Defaults to False.\n",
    "\n",
    "    Returns:\n",
    "    - filter_by_submitter (function): The filter function that can be used to filter submissions.\n",
    "    \"\"\"\n",
    "    def filter_by_submitter(x):\n",
    "        if exclude:\n",
    "            return x[\"submitter\"] != email\n",
    "        else:\n",
    "            return x[\"submitter\"] == email\n",
    "    return filter_by_submitter\n",
    "\n",
    "def make_filter_by_workflow_status(status, exclude=False):\n",
    "    \"\"\"\n",
    "    Returns a filter function that filters submissions based on the workflow status.\n",
    "\n",
    "    Parameters:\n",
    "    - status (str): The workflow status to filter by.\n",
    "    - exclude (bool, optional): If True, keep submissions that do not match the status.\n",
    "                                If False, keep submissions that match the status.\n",
    "                                Defaults to False.\n",
    "\n",
    "    Returns:\n",
    "    - filter_by_workflow_status (function): The filter function that can be used to filter submissions.\n",
    "    \"\"\"\n",
    "    def filter_by_workflow_status(x):\n",
    "        if exclude:\n",
    "            return any(x!=status for x in x[\"workflowStatuses\"])\n",
    "        else:\n",
    "            return any(x==status for x in x[\"workflowStatuses\"])\n",
    "    return filter_by_workflow_status\n",
    "\n",
    "def make_get_links_for_failed_workflows(workspace_project, workspace_namespace):\n",
    "    \"\"\"\n",
    "    Returns a function that gets the Google Storage links for failed workflows in a workspace.\n",
    "\n",
    "    Parameters:\n",
    "    - workspace_project (str): The project of the workspace to get the links for.\n",
    "    - workspace_namespace (str): The namespace of the workspace to get the links for.\n",
    "\n",
    "    Returns:\n",
    "    - get_links_for_failed_workflows (function): The function that can be used to get the links for failed workflows.\n",
    "    \"\"\"\n",
    "    def get_links_for_failed_workflows(x):\n",
    "        return get_gs_links_for_failed_workflows(workspace_project, workspace_namespace, x[\"submissionId\"])\n",
    "    return get_links_for_failed_workflows"
   ]
  },
  {
   "cell_type": "code",
   "execution_count": 9,
   "metadata": {},
   "outputs": [
    {
     "name": "stdout",
     "output_type": "stream",
     "text": [
      "137\n"
     ]
    }
   ],
   "source": [
    "# Now we can sequentially apply filters to get the submissions we are interested in\n",
    "\n",
    "# Let's restrict to submissions newer than certain date\n",
    "target_date = date.fromisoformat(\"2023-10-01\")\n",
    "submissions_newer_than_target_date = filter(make_filter_by_date(target_date), all_submissions)\n",
    "\n",
    "# Now let's find which submissions contains Failed or Aborted workflows\n",
    "failed_submissions = list(filter(make_filter_by_workflow_status(\"Succeded\", exclude=True), submissions_newer_than_target_date))\n",
    "\n",
    "\n",
    "print(len(failed_submissions))"
   ]
  },
  {
   "cell_type": "code",
   "execution_count": 8,
   "metadata": {},
   "outputs": [
    {
     "name": "stdout",
     "output_type": "stream",
     "text": [
      "583\n"
     ]
    }
   ],
   "source": [
    "folders_to_remove = list(map(make_get_links_for_failed_workflows(workspace_project, workspace_namespace), failed_submissions))\n",
    "folders_to_remove_cleaned = [x for sublist in folders_to_remove for x in sublist if x]\n",
    "\n",
    "print(len(folders_to_remove_cleaned))\n",
    "with open(\"folders_to_remove.txt\", \"w\") as f:\n",
    "    for item in folders_to_remove_cleaned:\n",
    "        f.write(f\"{item}\\n\")"
   ]
  }
 ],
 "metadata": {
  "kernelspec": {
   "display_name": ".venv",
   "language": "python",
   "name": "python3"
  },
  "language_info": {
   "codemirror_mode": {
    "name": "ipython",
    "version": 3
   },
   "file_extension": ".py",
   "mimetype": "text/x-python",
   "name": "python",
   "nbconvert_exporter": "python",
   "pygments_lexer": "ipython3",
   "version": "3.9.6"
  }
 },
 "nbformat": 4,
 "nbformat_minor": 2
}
