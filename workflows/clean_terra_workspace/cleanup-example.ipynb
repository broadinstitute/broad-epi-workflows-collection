{
 "cells": [
  {
   "cell_type": "code",
   "execution_count": 10,
   "metadata": {},
   "outputs": [],
   "source": [
    "import logging\n",
    "import os\n",
    "import sys\n",
    "import json\n",
    "from datetime import date\n",
    "from firecloud import api as fapi\n",
    "from oauth2client.client import GoogleCredentials\n",
    "sys.path.insert(0, os.path.abspath('../../src/python'))\n",
    "from terra_workspace_utils import get_workspace_submissions, get_gs_links_for_failed_workflows\n",
    "\n",
    "#pip install firecloud\n",
    "logging.basicConfig(filename='workspace-utils-app.log', filemode='w', format='%(name)s - %(levelname)s - %(message)s')"
   ]
  },
  {
   "cell_type": "code",
   "execution_count": 5,
   "metadata": {},
   "outputs": [],
   "source": [
    "def make_filter_by_date(target_date, newer=True):\n",
    "    \"\"\"\n",
    "    Returns a filter function that filters submissions based on the submission date.\n",
    "\n",
    "    Parameters:\n",
    "    - target_date (datetime.date): The target date to filter by.\n",
    "    - newer (bool, optional): If True, filters submissions with dates greater than the target date.\n",
    "                              If False, filters submissions with dates less than the target date.\n",
    "                              Defaults to True.\n",
    "\n",
    "    Returns:\n",
    "    - filter_by_date (function): The filter function that can be used to filter submissions.\n",
    "    \"\"\"\n",
    "    def filter_by_date(x):\n",
    "        if newer:\n",
    "            return date.fromisoformat(x[\"submissionDate\"].split(\"T\")[0]) > target_date\n",
    "        else:\n",
    "            return date.fromisoformat(x[\"submissionDate\"].split(\"T\")[0]) < target_date\n",
    "    return filter_by_date\n",
    "\n",
    "def make_filter_by_submitter(email, exclude=False):\n",
    "    \"\"\"\n",
    "    Returns a filter function that filters submissions based on the submitter's email.\n",
    "\n",
    "    Parameters:\n",
    "    - email (str): The email of the submitter to filter by.\n",
    "    - exclude (bool, optional): If True, keep submissions that do not match the email.\n",
    "                                If False, keep submissions that match the email.\n",
    "                                Defaults to False.\n",
    "\n",
    "    Returns:\n",
    "    - filter_by_submitter (function): The filter function that can be used to filter submissions.\n",
    "    \"\"\"\n",
    "    def filter_by_submitter(x):\n",
    "        if exclude:\n",
    "            return x[\"submitter\"] != email\n",
    "        else:\n",
    "            return x[\"submitter\"] == email\n",
    "    return filter_by_submitter\n",
    "\n",
    "def make_filter_by_workflow_status(status, exclude=False):\n",
    "    \"\"\"\n",
    "    Returns a filter function that filters submissions based on the workflow status.\n",
    "\n",
    "    Parameters:\n",
    "    - status (str): The workflow status to filter by.\n",
    "    - exclude (bool, optional): If True, keep submissions that do not match the status.\n",
    "                                If False, keep submissions that match the status.\n",
    "                                Defaults to False.\n",
    "\n",
    "    Returns:\n",
    "    - filter_by_workflow_status (function): The filter function that can be used to filter submissions.\n",
    "    \"\"\"\n",
    "    def filter_by_workflow_status(x):\n",
    "        if exclude:\n",
    "            return any(x!=status for x in x[\"workflowStatuses\"])\n",
    "        else:\n",
    "            return any(x==status for x in x[\"workflowStatuses\"])\n",
    "    return filter_by_workflow_status\n",
    "\n",
    "def make_get_links_for_failed_workflows(workspace_project, workspace_namespace):\n",
    "    \"\"\"\n",
    "    Returns a function that gets the Google Storage links for failed workflows in a workspace.\n",
    "\n",
    "    Parameters:\n",
    "    - workspace_project (str): The project of the workspace to get the links for.\n",
    "    - workspace_namespace (str): The namespace of the workspace to get the links for.\n",
    "\n",
    "    Returns:\n",
    "    - get_links_for_failed_workflows (function): The function that can be used to get the links for failed workflows.\n",
    "    \"\"\"\n",
    "    def get_links_for_failed_workflows(x):\n",
    "        return get_gs_links_for_failed_workflows(workspace_project, workspace_namespace, x[\"submissionId\"])\n",
    "    return get_links_for_failed_workflows"
   ]
  },
  {
   "cell_type": "code",
   "execution_count": null,
   "metadata": {},
   "outputs": [
    {
     "name": "stdout",
     "output_type": "stream",
     "text": [
      "deleteIntermediateOutputFiles\n",
      "methodConfigurationDeleted\n",
      "methodConfigurationName\n",
      "methodConfigurationNamespace\n",
      "status\n",
      "submissionDate\n",
      "submissionEntity\n",
      "submissionId\n",
      "submissionRoot\n",
      "submitter\n",
      "useCallCache\n",
      "userComment\n",
      "workflowStatuses\n"
     ]
    }
   ],
   "source": [
    "# Terra workspace in the form of 'namespace/name'\n",
    "workspace_project = \"\"\n",
    "workspace_namespace = \"\"\n",
    "\n",
    "\n",
    "# Get all submissions for a workspace\n",
    "all_submissions = get_workspace_submissions(workspace_project, workspace_namespace)\n",
    "print(\"\\n\".join(all_submissions[0].keys()))"
   ]
  },
  {
   "cell_type": "code",
   "execution_count": 39,
   "metadata": {},
   "outputs": [
    {
     "name": "stdout",
     "output_type": "stream",
     "text": [
      "1\n",
      "b46a1a0b-d0c6-459b-a193-2a0f3a6cf341\n",
      "('{\"causes\":[{\"causes\":[{\"causes\":[],\"exceptionClass\":\"java.util.NoSuchElementException\",\"message\":\"key not found: outputs\",\"source\":\"cromwell\",\"stackTrace\":[{\"className\":\"scala.collection.MapOps\",\"fileName\":\"Map.scala\",\"lineNumber\":289,\"methodName\":\"default\"},{\"className\":\"scala.collection.MapOps\",\"fileName\":\"Map.scala\",\"lineNumber\":288,\"methodName\":\"default$\"},{\"className\":\"scala.collection.AbstractMap\",\"fileName\":\"Map.scala\",\"lineNumber\":420,\"methodName\":\"default\"},{\"className\":\"scala.collection.MapOps\",\"fileName\":\"Map.scala\",\"lineNumber\":176,\"methodName\":\"apply\"},{\"className\":\"scala.collection.MapOps\",\"fileName\":\"Map.scala\",\"lineNumber\":175,\"methodName\":\"apply$\"},{\"className\":\"scala.collection.AbstractMap\",\"fileName\":\"Map.scala\",\"lineNumber\":420,\"methodName\":\"apply\"},{\"className\":\"spray.json.ProductFormats\",\"fileName\":\"ProductFormats.scala\",\"lineNumber\":58,\"methodName\":\"fromField\"},{\"className\":\"spray.json.ProductFormats\",\"fileName\":\"ProductFormats.scala\",\"lineNumber\":51,\"methodName\":\"fromField$\"},{\"className\":\"spray.json.DefaultJsonProtocol$\",\"fileName\":\"DefaultJsonProtocol.scala\",\"lineNumber\":30,\"methodName\":\"fromField\"},{\"className\":\"spray.json.ProductFormatsInstances$$anon$2\",\"fileName\":\"ProductFormatsInstances.scala\",\"lineNumber\":59,\"methodName\":\"read\"},{\"className\":\"spray.json.ProductFormatsInstances$$anon$2\",\"fileName\":\"ProductFormatsInstances.scala\",\"lineNumber\":49,\"methodName\":\"read\"},{\"className\":\"akka.http.scaladsl.marshallers.sprayjson.SprayJsonSupport\",\"fileName\":\"SprayJsonSupport.scala\",\"lineNumber\":31,\"methodName\":\"$anonfun$sprayJsonUnmarshaller$1\"},{\"className\":\"akka.http.scaladsl.util.FastFuture$\",\"fileName\":\"FastFuture.scala\",\"lineNumber\":22,\"methodName\":\"$anonfun$map$1\"},{\"className\":\"akka.http.scaladsl.util.FastFuture$\",\"fileName\":\"FastFuture.scala\",\"lineNumber\":40,\"methodName\":\"strictTransform$1\"},{\"className\":\"akka.http.scaladsl.util.FastFuture$\",\"fileName\":\"FastFuture.scala\",\"lineNumber\":44,\"methodName\":\"transformWith$extension\"},{\"className\":\"akka.http.scaladsl.util.FastFuture$\",\"fileName\":\"FastFuture.scala\",\"lineNumber\":22,\"methodName\":\"map$extension\"},{\"className\":\"akka.http.scaladsl.unmarshalling.Unmarshaller\",\"fileName\":\"Unmarshaller.scala\",\"lineNumber\":26,\"methodName\":\"$anonfun$map$3\"},{\"className\":\"akka.http.scaladsl.unmarshalling.Unmarshaller\",\"fileName\":\"Unmarshaller.scala\",\"lineNumber\":23,\"methodName\":\"$anonfun$transform$3\"},{\"className\":\"akka.http.scaladsl.unmarshalling.Unmarshaller$$anon$1\",\"fileName\":\"Unmarshaller.scala\",\"lineNumber\":58,\"methodName\":\"apply\"},{\"className\":\"akka.http.scaladsl.unmarshalling.Unmarshal\",\"fileName\":\"Unmarshal.scala\",\"lineNumber\":25,\"methodName\":\"to\"},{\"className\":\"org.broadinstitute.dsde.rawls.util.HttpClientUtils\",\"fileName\":\"HttpClientUtils.scala\",\"lineNumber\":43,\"methodName\":\"$anonfun$executeRequestUnmarshalResponse$2\"},{\"className\":\"scala.concurrent.impl.Promise$Transformation\",\"fileName\":\"Promise.scala\",\"lineNumber\":470,\"methodName\":\"run\"},{\"className\":\"java.util.concurrent.ForkJoinTask$RunnableExecuteAction\",\"fileName\":null,\"lineNumber\":-1,\"methodName\":\"exec\"},{\"className\":\"java.util.concurrent.ForkJoinTask\",\"fileName\":null,\"lineNumber\":-1,\"methodName\":\"doExec\"},{\"className\":\"java.util.concurrent.ForkJoinPool$WorkQueue\",\"fileName\":null,\"lineNumber\":-1,\"methodName\":\"topLevelExec\"},{\"className\":\"java.util.concurrent.ForkJoinPool\",\"fileName\":null,\"lineNumber\":-1,\"methodName\":\"scan\"},{\"className\":\"java.util.concurrent.ForkJoinPool\",\"fileName\":null,\"lineNumber\":-1,\"methodName\":\"runWorker\"},{\"className\":\"java.util.concurrent.ForkJoinWorkerThread\",\"fileName\":null,\"lineNumber\":-1,\"methodName\":\"run\"}]}],\"exceptionClass\":\"spray.json.DeserializationException\",\"message\":\"Object is missing required member \\'outputs\\'\",\"source\":\"cromwell\",\"stackTrace\":[{\"className\":\"spray.json.package$\",\"fileName\":\"package.scala\",\"lineNumber\":23,\"methodName\":\"deserializationError\"},{\"className\":\"spray.json.ProductFormats\",\"fileName\":\"ProductFormats.scala\",\"lineNumber\":61,\"methodName\":\"fromField\"},{\"className\":\"spray.json.ProductFormats\",\"fileName\":\"ProductFormats.scala\",\"lineNumber\":51,\"methodName\":\"fromField$\"},{\"className\":\"spray.json.DefaultJsonProtocol$\",\"fileName\":\"DefaultJsonProtocol.scala\",\"lineNumber\":30,\"methodName\":\"fromField\"},{\"className\":\"spray.json.ProductFormatsInstances$$anon$2\",\"fileName\":\"ProductFormatsInstances.scala\",\"lineNumber\":59,\"methodName\":\"read\"},{\"className\":\"spray.json.ProductFormatsInstances$$anon$2\",\"fileName\":\"ProductFormatsInstances.scala\",\"lineNumber\":49,\"methodName\":\"read\"},{\"className\":\"akka.http.scaladsl.marshallers.sprayjson.SprayJsonSupport\",\"fileName\":\"SprayJsonSupport.scala\",\"lineNumber\":31,\"methodName\":\"$anonfun$sprayJsonUnmarshaller$1\"},{\"className\":\"akka.http.scaladsl.util.FastFuture$\",\"fileName\":\"FastFuture.scala\",\"lineNumber\":22,\"methodName\":\"$anonfun$map$1\"},{\"className\":\"akka.http.scaladsl.util.FastFuture$\",\"fileName\":\"FastFuture.scala\",\"lineNumber\":40,\"methodName\":\"strictTransform$1\"},{\"className\":\"akka.http.scaladsl.util.FastFuture$\",\"fileName\":\"FastFuture.scala\",\"lineNumber\":44,\"methodName\":\"transformWith$extension\"},{\"className\":\"akka.http.scaladsl.util.FastFuture$\",\"fileName\":\"FastFuture.scala\",\"lineNumber\":22,\"methodName\":\"map$extension\"},{\"className\":\"akka.http.scaladsl.unmarshalling.Unmarshaller\",\"fileName\":\"Unmarshaller.scala\",\"lineNumber\":26,\"methodName\":\"$anonfun$map$3\"},{\"className\":\"akka.http.scaladsl.unmarshalling.Unmarshaller\",\"fileName\":\"Unmarshaller.scala\",\"lineNumber\":23,\"methodName\":\"$anonfun$transform$3\"},{\"className\":\"akka.http.scaladsl.unmarshalling.Unmarshaller$$anon$1\",\"fileName\":\"Unmarshaller.scala\",\"lineNumber\":58,\"methodName\":\"apply\"},{\"className\":\"akka.http.scaladsl.unmarshalling.Unmarshal\",\"fileName\":\"Unmarshal.scala\",\"lineNumber\":25,\"methodName\":\"to\"},{\"className\":\"org.broadinstitute.dsde.rawls.util.HttpClientUtils\",\"fileName\":\"HttpClientUtils.scala\",\"lineNumber\":43,\"methodName\":\"$anonfun$executeRequestUnmarshalResponse$2\"},{\"className\":\"scala.concurrent.impl.Promise$Transformation\",\"fileName\":\"Promise.scala\",\"lineNumber\":470,\"methodName\":\"run\"},{\"className\":\"java.util.concurrent.ForkJoinTask$RunnableExecuteAction\",\"fileName\":null,\"lineNumber\":-1,\"methodName\":\"exec\"},{\"className\":\"java.util.concurrent.ForkJoinTask\",\"fileName\":null,\"lineNumber\":-1,\"methodName\":\"doExec\"},{\"className\":\"java.util.concurrent.ForkJoinPool$WorkQueue\",\"fileName\":null,\"lineNumber\":-1,\"methodName\":\"topLevelExec\"},{\"className\":\"java.util.concurrent.ForkJoinPool\",\"fileName\":null,\"lineNumber\":-1,\"methodName\":\"scan\"},{\"className\":\"java.util.concurrent.ForkJoinPool\",\"fileName\":null,\"lineNumber\":-1,\"methodName\":\"runWorker\"},{\"className\":\"java.util.concurrent.ForkJoinWorkerThread\",\"fileName\":null,\"lineNumber\":-1,\"methodName\":\"run\"}]}],\"message\":\"Unable to get outputs for 0011aa87-cb3b-4ba3-b160-22f071754afc.\",\"source\":\"rawls\",\"stackTrace\":[],\"statusCode\":502}', False)\n"
     ]
    }
   ],
   "source": [
    "from terra_workspace_utils import get_workflows_by_submission, get_workflow_outputs\n",
    "\n",
    "# Get all workflows for a submission\n",
    "submission = all_submissions[1]\n",
    "workflows = get_workflows_by_submission(workspace_project, workspace_namespace, submission['submissionId'])\n",
    "print(len(workflows[\"workflows\"]))\n",
    "# This is the example for just the first workflow. You can loop through all workflows if you have more than one.\n",
    "print(workflows[\"workflows\"][0][\"workflowId\"])\n",
    "outputs = get_workflow_outputs(workspace_project, workspace_namespace, submission['submissionId'], workflows[\"workflows\"][0][\"workflowId\"])\n",
    "print(outputs)"
   ]
  },
  {
   "cell_type": "code",
   "execution_count": 41,
   "metadata": {},
   "outputs": [
    {
     "name": "stdout",
     "output_type": "stream",
     "text": [
      "1670\n"
     ]
    }
   ],
   "source": [
    "# Now we can sequentially apply filters to get the submissions we are interested in\n",
    "\n",
    "# Let's restrict to submissions newer than certain date\n",
    "target_date = date.fromisoformat(\"2020-01-01\")\n",
    "submissions_newer_than_target_date = filter(make_filter_by_date(target_date), all_submissions)\n",
    "\n",
    "# Now let's find which submissions contains Failed or Aborted workflows\n",
    "failed_submissions = list(filter(make_filter_by_workflow_status(\"Succeded\", exclude=True), submissions_newer_than_target_date))\n",
    "\n",
    "\n",
    "print(len(failed_submissions))"
   ]
  },
  {
   "cell_type": "code",
   "execution_count": 43,
   "metadata": {},
   "outputs": [
    {
     "name": "stdout",
     "output_type": "stream",
     "text": [
      "2618\n"
     ]
    }
   ],
   "source": [
    "folders_to_remove = list(map(make_get_links_for_failed_workflows(workspace_project, workspace_namespace), failed_submissions))\n",
    "folders_to_remove_cleaned = [x for sublist in folders_to_remove for x in sublist if x]\n",
    "\n",
    "print(len(folders_to_remove_cleaned))\n",
    "with open(\"folders_to_remove_gro_share.txt\", \"w\") as f:\n",
    "    for item in folders_to_remove_cleaned:\n",
    "        f.write(f\"{item}\\n\")"
   ]
  }
 ],
 "metadata": {
  "kernelspec": {
   "display_name": ".venv",
   "language": "python",
   "name": "python3"
  },
  "language_info": {
   "codemirror_mode": {
    "name": "ipython",
    "version": 3
   },
   "file_extension": ".py",
   "mimetype": "text/x-python",
   "name": "python",
   "nbconvert_exporter": "python",
   "pygments_lexer": "ipython3",
   "version": "3.9.6"
  }
 },
 "nbformat": 4,
 "nbformat_minor": 2
}
