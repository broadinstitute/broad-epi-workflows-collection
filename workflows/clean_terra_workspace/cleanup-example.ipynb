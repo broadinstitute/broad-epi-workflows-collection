{
 "cells": [
  {
   "cell_type": "code",
   "execution_count": 1,
   "metadata": {},
   "outputs": [],
   "source": [
    "import logging\n",
    "import os\n",
    "import sys\n",
    "import json\n",
    "from datetime import date\n",
    "from firecloud import api as fapi\n",
    "from oauth2client.client import GoogleCredentials\n",
    "sys.path.insert(0, os.path.abspath('../../src/python'))\n",
    "from terra_workspace_utils import get_workspace_submissions, get_gs_links_for_failed_workflows\n",
    "\n",
    "#pip install firecloud\n",
    "logging.basicConfig(filename='workspace-utils-app.log', filemode='w', format='%(name)s - %(levelname)s - %(message)s')"
   ]
  },
  {
   "cell_type": "code",
   "execution_count": 2,
   "metadata": {},
   "outputs": [],
   "source": [
    "def make_filter_by_date(target_date, newer=True):\n",
    "    \"\"\"\n",
    "    Returns a filter function that filters submissions based on the submission date.\n",
    "\n",
    "    Parameters:\n",
    "    - target_date (datetime.date): The target date to filter by.\n",
    "    - newer (bool, optional): If True, filters submissions with dates greater than the target date.\n",
    "                              If False, filters submissions with dates less than the target date.\n",
    "                              Defaults to True.\n",
    "\n",
    "    Returns:\n",
    "    - filter_by_date (function): The filter function that can be used to filter submissions.\n",
    "    \"\"\"\n",
    "    def filter_by_date(x):\n",
    "        if newer:\n",
    "            return date.fromisoformat(x[\"submissionDate\"].split(\"T\")[0]) > target_date\n",
    "        else:\n",
    "            return date.fromisoformat(x[\"submissionDate\"].split(\"T\")[0]) < target_date\n",
    "    return filter_by_date\n",
    "\n",
    "def make_filter_by_submitter(email, exclude=False):\n",
    "    \"\"\"\n",
    "    Returns a filter function that filters submissions based on the submitter's email.\n",
    "\n",
    "    Parameters:\n",
    "    - email (str): The email of the submitter to filter by.\n",
    "    - exclude (bool, optional): If True, keep submissions that do not match the email.\n",
    "                                If False, keep submissions that match the email.\n",
    "                                Defaults to False.\n",
    "\n",
    "    Returns:\n",
    "    - filter_by_submitter (function): The filter function that can be used to filter submissions.\n",
    "    \"\"\"\n",
    "    def filter_by_submitter(x):\n",
    "        if exclude:\n",
    "            return x[\"submitter\"] != email\n",
    "        else:\n",
    "            return x[\"submitter\"] == email\n",
    "    return filter_by_submitter\n",
    "\n",
    "def make_filter_by_workflow_status(status, exclude=False):\n",
    "    \"\"\"\n",
    "    Returns a filter function that filters submissions based on the workflow status.\n",
    "\n",
    "    Parameters:\n",
    "    - status (str): The workflow status to filter by.\n",
    "    - exclude (bool, optional): If True, keep submissions that do not match the status.\n",
    "                                If False, keep submissions that match the status.\n",
    "                                Defaults to False.\n",
    "\n",
    "    Returns:\n",
    "    - filter_by_workflow_status (function): The filter function that can be used to filter submissions.\n",
    "    \"\"\"\n",
    "    def filter_by_workflow_status(x):\n",
    "        if exclude:\n",
    "            return any(x!=status for x in x[\"workflowStatuses\"])\n",
    "        else:\n",
    "            return any(x==status for x in x[\"workflowStatuses\"])\n",
    "    return filter_by_workflow_status\n",
    "\n",
    "def make_get_links_for_failed_workflows(workspace_project, workspace_namespace):\n",
    "    \"\"\"\n",
    "    Returns a function that gets the Google Storage links for failed workflows in a workspace.\n",
    "\n",
    "    Parameters:\n",
    "    - workspace_project (str): The project of the workspace to get the links for.\n",
    "    - workspace_namespace (str): The namespace of the workspace to get the links for.\n",
    "\n",
    "    Returns:\n",
    "    - get_links_for_failed_workflows (function): The function that can be used to get the links for failed workflows.\n",
    "    \"\"\"\n",
    "    def get_links_for_failed_workflows(x):\n",
    "        return get_gs_links_for_failed_workflows(workspace_project, workspace_namespace, x[\"submissionId\"])\n",
    "    return get_links_for_failed_workflows"
   ]
  },
  {
   "cell_type": "code",
   "execution_count": null,
   "metadata": {},
   "outputs": [
    {
     "name": "stdout",
     "output_type": "stream",
     "text": [
      "deleteIntermediateOutputFiles\n",
      "methodConfigurationDeleted\n",
      "methodConfigurationName\n",
      "methodConfigurationNamespace\n",
      "status\n",
      "submissionDate\n",
      "submissionEntity\n",
      "submissionId\n",
      "submissionRoot\n",
      "submitter\n",
      "useCallCache\n",
      "userComment\n",
      "workflowStatuses\n"
     ]
    }
   ],
   "source": [
    "# Terra workspace in the form of 'namespace/name'\n",
    "workspace_project = \"\"\n",
    "workspace_namespace = \"\"\n",
    "\n",
    "\n",
    "# Get all submissions for a workspace\n",
    "all_submissions = get_workspace_submissions(workspace_project, workspace_namespace)\n",
    "print(\"\\n\".join(all_submissions[0].keys()))"
   ]
  },
  {
   "cell_type": "code",
   "execution_count": 4,
   "metadata": {},
   "outputs": [
    {
     "name": "stdout",
     "output_type": "stream",
     "text": [
      "4\n",
      "e020829f-fbfb-4071-9ed7-50462b4ca8d6\n",
      "('{\\n  \"causes\": [{\\n    \"causes\": [{\\n      \"causes\": [],\\n      \"exceptionClass\": \"java.util.NoSuchElementException\",\\n      \"message\": \"key not found: outputs\",\\n      \"source\": \"cromwell\",\\n      \"stackTrace\": [{\\n        \"className\": \"scala.collection.MapOps\",\\n        \"fileName\": \"Map.scala\",\\n        \"lineNumber\": 289,\\n        \"methodName\": \"default\"\\n      }, {\\n        \"className\": \"scala.collection.MapOps\",\\n        \"fileName\": \"Map.scala\",\\n        \"lineNumber\": 288,\\n        \"methodName\": \"default$\"\\n      }, {\\n        \"className\": \"scala.collection.AbstractMap\",\\n        \"fileName\": \"Map.scala\",\\n        \"lineNumber\": 420,\\n        \"methodName\": \"default\"\\n      }, {\\n        \"className\": \"scala.collection.MapOps\",\\n        \"fileName\": \"Map.scala\",\\n        \"lineNumber\": 176,\\n        \"methodName\": \"apply\"\\n      }, {\\n        \"className\": \"scala.collection.MapOps\",\\n        \"fileName\": \"Map.scala\",\\n        \"lineNumber\": 175,\\n        \"methodName\": \"apply$\"\\n      }, {\\n        \"className\": \"scala.collection.AbstractMap\",\\n        \"fileName\": \"Map.scala\",\\n        \"lineNumber\": 420,\\n        \"methodName\": \"apply\"\\n      }, {\\n        \"className\": \"spray.json.ProductFormats\",\\n        \"fileName\": \"ProductFormats.scala\",\\n        \"lineNumber\": 58,\\n        \"methodName\": \"fromField\"\\n      }, {\\n        \"className\": \"spray.json.ProductFormats\",\\n        \"fileName\": \"ProductFormats.scala\",\\n        \"lineNumber\": 51,\\n        \"methodName\": \"fromField$\"\\n      }, {\\n        \"className\": \"spray.json.DefaultJsonProtocol$\",\\n        \"fileName\": \"DefaultJsonProtocol.scala\",\\n        \"lineNumber\": 30,\\n        \"methodName\": \"fromField\"\\n      }, {\\n        \"className\": \"spray.json.ProductFormatsInstances$$anon$2\",\\n        \"fileName\": \"ProductFormatsInstances.scala\",\\n        \"lineNumber\": 59,\\n        \"methodName\": \"read\"\\n      }, {\\n        \"className\": \"spray.json.ProductFormatsInstances$$anon$2\",\\n        \"fileName\": \"ProductFormatsInstances.scala\",\\n        \"lineNumber\": 49,\\n        \"methodName\": \"read\"\\n      }, {\\n        \"className\": \"akka.http.scaladsl.marshallers.sprayjson.SprayJsonSupport\",\\n        \"fileName\": \"SprayJsonSupport.scala\",\\n        \"lineNumber\": 31,\\n        \"methodName\": \"$anonfun$sprayJsonUnmarshaller$1\"\\n      }, {\\n        \"className\": \"akka.http.scaladsl.util.FastFuture$\",\\n        \"fileName\": \"FastFuture.scala\",\\n        \"lineNumber\": 22,\\n        \"methodName\": \"$anonfun$map$1\"\\n      }, {\\n        \"className\": \"akka.http.scaladsl.util.FastFuture$\",\\n        \"fileName\": \"FastFuture.scala\",\\n        \"lineNumber\": 40,\\n        \"methodName\": \"strictTransform$1\"\\n      }, {\\n        \"className\": \"akka.http.scaladsl.util.FastFuture$\",\\n        \"fileName\": \"FastFuture.scala\",\\n        \"lineNumber\": 44,\\n        \"methodName\": \"transformWith$extension\"\\n      }, {\\n        \"className\": \"akka.http.scaladsl.util.FastFuture$\",\\n        \"fileName\": \"FastFuture.scala\",\\n        \"lineNumber\": 22,\\n        \"methodName\": \"map$extension\"\\n      }, {\\n        \"className\": \"akka.http.scaladsl.unmarshalling.Unmarshaller\",\\n        \"fileName\": \"Unmarshaller.scala\",\\n        \"lineNumber\": 26,\\n        \"methodName\": \"$anonfun$map$3\"\\n      }, {\\n        \"className\": \"akka.http.scaladsl.unmarshalling.Unmarshaller\",\\n        \"fileName\": \"Unmarshaller.scala\",\\n        \"lineNumber\": 23,\\n        \"methodName\": \"$anonfun$transform$3\"\\n      }, {\\n        \"className\": \"akka.http.scaladsl.unmarshalling.Unmarshaller$$anon$1\",\\n        \"fileName\": \"Unmarshaller.scala\",\\n        \"lineNumber\": 58,\\n        \"methodName\": \"apply\"\\n      }, {\\n        \"className\": \"akka.http.scaladsl.unmarshalling.Unmarshal\",\\n        \"fileName\": \"Unmarshal.scala\",\\n        \"lineNumber\": 25,\\n        \"methodName\": \"to\"\\n      }, {\\n        \"className\": \"org.broadinstitute.dsde.rawls.util.HttpClientUtils\",\\n        \"fileName\": \"HttpClientUtils.scala\",\\n        \"lineNumber\": 43,\\n        \"methodName\": \"$anonfun$executeRequestUnmarshalResponse$2\"\\n      }, {\\n        \"className\": \"scala.concurrent.impl.Promise$Transformation\",\\n        \"fileName\": \"Promise.scala\",\\n        \"lineNumber\": 470,\\n        \"methodName\": \"run\"\\n      }, {\\n        \"className\": \"java.util.concurrent.ForkJoinTask$RunnableExecuteAction\",\\n        \"fileName\": null,\\n        \"lineNumber\": -1,\\n        \"methodName\": \"exec\"\\n      }, {\\n        \"className\": \"java.util.concurrent.ForkJoinTask\",\\n        \"fileName\": null,\\n        \"lineNumber\": -1,\\n        \"methodName\": \"doExec\"\\n      }, {\\n        \"className\": \"java.util.concurrent.ForkJoinPool$WorkQueue\",\\n        \"fileName\": null,\\n        \"lineNumber\": -1,\\n        \"methodName\": \"topLevelExec\"\\n      }, {\\n        \"className\": \"java.util.concurrent.ForkJoinPool\",\\n        \"fileName\": null,\\n        \"lineNumber\": -1,\\n        \"methodName\": \"scan\"\\n      }, {\\n        \"className\": \"java.util.concurrent.ForkJoinPool\",\\n        \"fileName\": null,\\n        \"lineNumber\": -1,\\n        \"methodName\": \"runWorker\"\\n      }, {\\n        \"className\": \"java.util.concurrent.ForkJoinWorkerThread\",\\n        \"fileName\": null,\\n        \"lineNumber\": -1,\\n        \"methodName\": \"run\"\\n      }]\\n    }],\\n    \"exceptionClass\": \"spray.json.DeserializationException\",\\n    \"message\": \"Object is missing required member \\'outputs\\'\",\\n    \"source\": \"cromwell\",\\n    \"stackTrace\": [{\\n      \"className\": \"spray.json.package$\",\\n      \"fileName\": \"package.scala\",\\n      \"lineNumber\": 23,\\n      \"methodName\": \"deserializationError\"\\n    }, {\\n      \"className\": \"spray.json.ProductFormats\",\\n      \"fileName\": \"ProductFormats.scala\",\\n      \"lineNumber\": 61,\\n      \"methodName\": \"fromField\"\\n    }, {\\n      \"className\": \"spray.json.ProductFormats\",\\n      \"fileName\": \"ProductFormats.scala\",\\n      \"lineNumber\": 51,\\n      \"methodName\": \"fromField$\"\\n    }, {\\n      \"className\": \"spray.json.DefaultJsonProtocol$\",\\n      \"fileName\": \"DefaultJsonProtocol.scala\",\\n      \"lineNumber\": 30,\\n      \"methodName\": \"fromField\"\\n    }, {\\n      \"className\": \"spray.json.ProductFormatsInstances$$anon$2\",\\n      \"fileName\": \"ProductFormatsInstances.scala\",\\n      \"lineNumber\": 59,\\n      \"methodName\": \"read\"\\n    }, {\\n      \"className\": \"spray.json.ProductFormatsInstances$$anon$2\",\\n      \"fileName\": \"ProductFormatsInstances.scala\",\\n      \"lineNumber\": 49,\\n      \"methodName\": \"read\"\\n    }, {\\n      \"className\": \"akka.http.scaladsl.marshallers.sprayjson.SprayJsonSupport\",\\n      \"fileName\": \"SprayJsonSupport.scala\",\\n      \"lineNumber\": 31,\\n      \"methodName\": \"$anonfun$sprayJsonUnmarshaller$1\"\\n    }, {\\n      \"className\": \"akka.http.scaladsl.util.FastFuture$\",\\n      \"fileName\": \"FastFuture.scala\",\\n      \"lineNumber\": 22,\\n      \"methodName\": \"$anonfun$map$1\"\\n    }, {\\n      \"className\": \"akka.http.scaladsl.util.FastFuture$\",\\n      \"fileName\": \"FastFuture.scala\",\\n      \"lineNumber\": 40,\\n      \"methodName\": \"strictTransform$1\"\\n    }, {\\n      \"className\": \"akka.http.scaladsl.util.FastFuture$\",\\n      \"fileName\": \"FastFuture.scala\",\\n      \"lineNumber\": 44,\\n      \"methodName\": \"transformWith$extension\"\\n    }, {\\n      \"className\": \"akka.http.scaladsl.util.FastFuture$\",\\n      \"fileName\": \"FastFuture.scala\",\\n      \"lineNumber\": 22,\\n      \"methodName\": \"map$extension\"\\n    }, {\\n      \"className\": \"akka.http.scaladsl.unmarshalling.Unmarshaller\",\\n      \"fileName\": \"Unmarshaller.scala\",\\n      \"lineNumber\": 26,\\n      \"methodName\": \"$anonfun$map$3\"\\n    }, {\\n      \"className\": \"akka.http.scaladsl.unmarshalling.Unmarshaller\",\\n      \"fileName\": \"Unmarshaller.scala\",\\n      \"lineNumber\": 23,\\n      \"methodName\": \"$anonfun$transform$3\"\\n    }, {\\n      \"className\": \"akka.http.scaladsl.unmarshalling.Unmarshaller$$anon$1\",\\n      \"fileName\": \"Unmarshaller.scala\",\\n      \"lineNumber\": 58,\\n      \"methodName\": \"apply\"\\n    }, {\\n      \"className\": \"akka.http.scaladsl.unmarshalling.Unmarshal\",\\n      \"fileName\": \"Unmarshal.scala\",\\n      \"lineNumber\": 25,\\n      \"methodName\": \"to\"\\n    }, {\\n      \"className\": \"org.broadinstitute.dsde.rawls.util.HttpClientUtils\",\\n      \"fileName\": \"HttpClientUtils.scala\",\\n      \"lineNumber\": 43,\\n      \"methodName\": \"$anonfun$executeRequestUnmarshalResponse$2\"\\n    }, {\\n      \"className\": \"scala.concurrent.impl.Promise$Transformation\",\\n      \"fileName\": \"Promise.scala\",\\n      \"lineNumber\": 470,\\n      \"methodName\": \"run\"\\n    }, {\\n      \"className\": \"java.util.concurrent.ForkJoinTask$RunnableExecuteAction\",\\n      \"fileName\": null,\\n      \"lineNumber\": -1,\\n      \"methodName\": \"exec\"\\n    }, {\\n      \"className\": \"java.util.concurrent.ForkJoinTask\",\\n      \"fileName\": null,\\n      \"lineNumber\": -1,\\n      \"methodName\": \"doExec\"\\n    }, {\\n      \"className\": \"java.util.concurrent.ForkJoinPool$WorkQueue\",\\n      \"fileName\": null,\\n      \"lineNumber\": -1,\\n      \"methodName\": \"topLevelExec\"\\n    }, {\\n      \"className\": \"java.util.concurrent.ForkJoinPool\",\\n      \"fileName\": null,\\n      \"lineNumber\": -1,\\n      \"methodName\": \"scan\"\\n    }, {\\n      \"className\": \"java.util.concurrent.ForkJoinPool\",\\n      \"fileName\": null,\\n      \"lineNumber\": -1,\\n      \"methodName\": \"runWorker\"\\n    }, {\\n      \"className\": \"java.util.concurrent.ForkJoinWorkerThread\",\\n      \"fileName\": null,\\n      \"lineNumber\": -1,\\n      \"methodName\": \"run\"\\n    }]\\n  }],\\n  \"message\": \"Unable to get outputs for 01a469b5-9e5d-4b78-85e6-3cbcd90fb236.\",\\n  \"source\": \"rawls\",\\n  \"stackTrace\": [],\\n  \"statusCode\": 502,\\n  \"timestamp\": 1739568296271\\n}', False)\n"
     ]
    }
   ],
   "source": [
    "from terra_workspace_utils import get_workflows_by_submission, get_workflow_outputs\n",
    "\n",
    "# Get all workflows for a submission\n",
    "submission = all_submissions[1]\n",
    "workflows = get_workflows_by_submission(workspace_project, workspace_namespace, submission['submissionId'])\n",
    "print(len(workflows[\"workflows\"]))\n",
    "# This is the example for just the first workflow. You can loop through all workflows if you have more than one.\n",
    "print(workflows[\"workflows\"][0][\"workflowId\"])\n",
    "outputs = get_workflow_outputs(workspace_project, workspace_namespace, submission['submissionId'], workflows[\"workflows\"][0][\"workflowId\"])\n",
    "print(outputs)"
   ]
  },
  {
   "cell_type": "code",
   "execution_count": 6,
   "metadata": {},
   "outputs": [
    {
     "name": "stdout",
     "output_type": "stream",
     "text": [
      "57\n"
     ]
    }
   ],
   "source": [
    "# Now we can sequentially apply filters to get the submissions we are interested in\n",
    "\n",
    "# Let's restrict to submissions newer than certain date\n",
    "target_date = date.fromisoformat(\"2020-07-01\")\n",
    "submissions_newer_than_target_date = filter(make_filter_by_date(target_date), all_submissions)\n",
    "\n",
    "# Now let's find which submissions contains Failed or Aborted workflows\n",
    "failed_submissions = list(filter(make_filter_by_workflow_status(\"Succeeded\", exclude=True), submissions_newer_than_target_date))\n",
    "\n",
    "\n",
    "print(len(failed_submissions))"
   ]
  },
  {
   "cell_type": "code",
   "execution_count": 8,
   "metadata": {},
   "outputs": [
    {
     "name": "stdout",
     "output_type": "stream",
     "text": [
      "182\n"
     ]
    }
   ],
   "source": [
    "folders_to_remove = list(map(make_get_links_for_failed_workflows(workspace_project, workspace_namespace), failed_submissions))\n",
    "folders_to_remove_cleaned = [x for sublist in folders_to_remove for x in sublist if x]\n",
    "\n",
    "print(len(folders_to_remove_cleaned))\n",
    "with open(\"folders_to_remove_gro_share.txt\", \"w\") as f:\n",
    "    for item in folders_to_remove_cleaned:\n",
    "        f.write(f\"{item}\\n\")"
   ]
  }
 ],
 "metadata": {
  "kernelspec": {
   "display_name": ".venv",
   "language": "python",
   "name": "python3"
  },
  "language_info": {
   "codemirror_mode": {
    "name": "ipython",
    "version": 3
   },
   "file_extension": ".py",
   "mimetype": "text/x-python",
   "name": "python",
   "nbconvert_exporter": "python",
   "pygments_lexer": "ipython3",
   "version": "3.9.6"
  }
 },
 "nbformat": 4,
 "nbformat_minor": 2
}
